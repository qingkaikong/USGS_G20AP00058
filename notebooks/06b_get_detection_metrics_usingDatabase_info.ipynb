{
 "cells": [
  {
   "cell_type": "code",
   "execution_count": 1,
   "metadata": {
    "button": false,
    "collapsed": false,
    "deletable": true,
    "new_sheet": false,
    "run_control": {
     "read_only": false
    }
   },
   "outputs": [
    {
     "data": {
      "text/plain": [
       "<module 'utils' from '/Users/qingkaikong/Desktop/USGS/notebooks/utils.py'>"
      ]
     },
     "execution_count": 1,
     "metadata": {},
     "output_type": "execute_result"
    }
   ],
   "source": [
    "import importlib\n",
    "import pandas as pd\n",
    "\n",
    "import utils\n",
    "from usgs_querier import EQFromUSGS\n",
    "\n",
    "importlib.reload(utils)\n"
   ]
  },
  {
   "cell_type": "code",
   "execution_count": 2,
   "metadata": {
    "button": false,
    "collapsed": true,
    "deletable": true,
    "new_sheet": false,
    "run_control": {
     "read_only": false
    }
   },
   "outputs": [],
   "source": [
    "df_eq = pd.read_pickle('../data/USGS_Earthquake_20160201_20200801_M3.5above.pkl')\n",
    "df_event = pd.read_hdf('../data/event_20160201_20190929.h5')\n",
    "df_matched_event = pd.read_csv('../data/matched_events_from_SA_20160201_20201006.csv')"
   ]
  },
  {
   "cell_type": "code",
   "execution_count": 5,
   "metadata": {
    "button": false,
    "collapsed": false,
    "deletable": true,
    "new_sheet": false,
    "run_control": {
     "read_only": false
    }
   },
   "outputs": [
    {
     "data": {
      "text/html": [
       "<div>\n",
       "<style scoped>\n",
       "    .dataframe tbody tr th:only-of-type {\n",
       "        vertical-align: middle;\n",
       "    }\n",
       "\n",
       "    .dataframe tbody tr th {\n",
       "        vertical-align: top;\n",
       "    }\n",
       "\n",
       "    .dataframe thead th {\n",
       "        text-align: right;\n",
       "    }\n",
       "</style>\n",
       "<table border=\"1\" class=\"dataframe\">\n",
       "  <thead>\n",
       "    <tr style=\"text-align: right;\">\n",
       "      <th></th>\n",
       "      <th>Unnamed: 0</th>\n",
       "      <th>id</th>\n",
       "      <th>ver</th>\n",
       "      <th>catid</th>\n",
       "      <th>time</th>\n",
       "      <th>day</th>\n",
       "      <th>dsecs</th>\n",
       "      <th>dkm</th>\n",
       "      <th>dmag</th>\n",
       "      <th>modtime</th>\n",
       "      <th>id.1</th>\n",
       "      <th>catalogid</th>\n",
       "      <th>lat</th>\n",
       "      <th>lon</th>\n",
       "      <th>depth</th>\n",
       "      <th>mag</th>\n",
       "      <th>time.1</th>\n",
       "      <th>day.1</th>\n",
       "      <th>modtime.1</th>\n",
       "    </tr>\n",
       "  </thead>\n",
       "  <tbody>\n",
       "    <tr>\n",
       "      <th>10368</th>\n",
       "      <td>160049</td>\n",
       "      <td>26034</td>\n",
       "      <td>0</td>\n",
       "      <td>285474</td>\n",
       "      <td>1.478437e+09</td>\n",
       "      <td>20161106</td>\n",
       "      <td>2.652</td>\n",
       "      <td>6.08058</td>\n",
       "      <td>0.0429</td>\n",
       "      <td>1478437913</td>\n",
       "      <td>285474</td>\n",
       "      <td>nc72721105</td>\n",
       "      <td>39.659833</td>\n",
       "      <td>-123.637333</td>\n",
       "      <td>-0.65</td>\n",
       "      <td>4.06</td>\n",
       "      <td>1.478437e+09</td>\n",
       "      <td>20161106</td>\n",
       "      <td>1478577633</td>\n",
       "    </tr>\n",
       "    <tr>\n",
       "      <th>10369</th>\n",
       "      <td>160050</td>\n",
       "      <td>26033</td>\n",
       "      <td>0</td>\n",
       "      <td>285474</td>\n",
       "      <td>1.478437e+09</td>\n",
       "      <td>20161106</td>\n",
       "      <td>2.652</td>\n",
       "      <td>6.08058</td>\n",
       "      <td>0.0429</td>\n",
       "      <td>1478437913</td>\n",
       "      <td>285474</td>\n",
       "      <td>nc72721105</td>\n",
       "      <td>39.659833</td>\n",
       "      <td>-123.637333</td>\n",
       "      <td>-0.65</td>\n",
       "      <td>4.06</td>\n",
       "      <td>1.478437e+09</td>\n",
       "      <td>20161106</td>\n",
       "      <td>1478577633</td>\n",
       "    </tr>\n",
       "    <tr>\n",
       "      <th>10370</th>\n",
       "      <td>160051</td>\n",
       "      <td>26032</td>\n",
       "      <td>0</td>\n",
       "      <td>285474</td>\n",
       "      <td>1.478437e+09</td>\n",
       "      <td>20161106</td>\n",
       "      <td>2.652</td>\n",
       "      <td>6.08058</td>\n",
       "      <td>0.0429</td>\n",
       "      <td>1478437913</td>\n",
       "      <td>285474</td>\n",
       "      <td>nc72721105</td>\n",
       "      <td>39.659833</td>\n",
       "      <td>-123.637333</td>\n",
       "      <td>-0.65</td>\n",
       "      <td>4.06</td>\n",
       "      <td>1.478437e+09</td>\n",
       "      <td>20161106</td>\n",
       "      <td>1478577633</td>\n",
       "    </tr>\n",
       "    <tr>\n",
       "      <th>10371</th>\n",
       "      <td>160052</td>\n",
       "      <td>26031</td>\n",
       "      <td>0</td>\n",
       "      <td>285474</td>\n",
       "      <td>1.478437e+09</td>\n",
       "      <td>20161106</td>\n",
       "      <td>2.652</td>\n",
       "      <td>6.08058</td>\n",
       "      <td>0.0429</td>\n",
       "      <td>1478437913</td>\n",
       "      <td>285474</td>\n",
       "      <td>nc72721105</td>\n",
       "      <td>39.659833</td>\n",
       "      <td>-123.637333</td>\n",
       "      <td>-0.65</td>\n",
       "      <td>4.06</td>\n",
       "      <td>1.478437e+09</td>\n",
       "      <td>20161106</td>\n",
       "      <td>1478577633</td>\n",
       "    </tr>\n",
       "    <tr>\n",
       "      <th>10372</th>\n",
       "      <td>160053</td>\n",
       "      <td>26030</td>\n",
       "      <td>0</td>\n",
       "      <td>285474</td>\n",
       "      <td>1.478437e+09</td>\n",
       "      <td>20161106</td>\n",
       "      <td>4.577</td>\n",
       "      <td>22.48430</td>\n",
       "      <td>-0.4484</td>\n",
       "      <td>1478437913</td>\n",
       "      <td>285474</td>\n",
       "      <td>nc72721105</td>\n",
       "      <td>39.659833</td>\n",
       "      <td>-123.637333</td>\n",
       "      <td>-0.65</td>\n",
       "      <td>4.06</td>\n",
       "      <td>1.478437e+09</td>\n",
       "      <td>20161106</td>\n",
       "      <td>1478577633</td>\n",
       "    </tr>\n",
       "  </tbody>\n",
       "</table>\n",
       "</div>"
      ],
      "text/plain": [
       "       Unnamed: 0     id  ver   catid          time       day  dsecs  \\\n",
       "10368      160049  26034    0  285474  1.478437e+09  20161106  2.652   \n",
       "10369      160050  26033    0  285474  1.478437e+09  20161106  2.652   \n",
       "10370      160051  26032    0  285474  1.478437e+09  20161106  2.652   \n",
       "10371      160052  26031    0  285474  1.478437e+09  20161106  2.652   \n",
       "10372      160053  26030    0  285474  1.478437e+09  20161106  4.577   \n",
       "\n",
       "            dkm    dmag     modtime    id.1   catalogid        lat  \\\n",
       "10368   6.08058  0.0429  1478437913  285474  nc72721105  39.659833   \n",
       "10369   6.08058  0.0429  1478437913  285474  nc72721105  39.659833   \n",
       "10370   6.08058  0.0429  1478437913  285474  nc72721105  39.659833   \n",
       "10371   6.08058  0.0429  1478437913  285474  nc72721105  39.659833   \n",
       "10372  22.48430 -0.4484  1478437913  285474  nc72721105  39.659833   \n",
       "\n",
       "              lon  depth   mag        time.1     day.1   modtime.1  \n",
       "10368 -123.637333  -0.65  4.06  1.478437e+09  20161106  1478577633  \n",
       "10369 -123.637333  -0.65  4.06  1.478437e+09  20161106  1478577633  \n",
       "10370 -123.637333  -0.65  4.06  1.478437e+09  20161106  1478577633  \n",
       "10371 -123.637333  -0.65  4.06  1.478437e+09  20161106  1478577633  \n",
       "10372 -123.637333  -0.65  4.06  1.478437e+09  20161106  1478577633  "
      ]
     },
     "execution_count": 5,
     "metadata": {},
     "output_type": "execute_result"
    }
   ],
   "source": [
    "df_matched_event[df_matched_event['catalogid'] == 'nc72721105']"
   ]
  },
  {
   "cell_type": "code",
   "execution_count": 82,
   "metadata": {
    "button": false,
    "collapsed": false,
    "deletable": true,
    "new_sheet": false,
    "run_control": {
     "read_only": false
    }
   },
   "outputs": [
    {
     "data": {
      "text/plain": [
       "788"
      ]
     },
     "execution_count": 82,
     "metadata": {},
     "output_type": "execute_result"
    }
   ],
   "source": [
    "len(df_eq)"
   ]
  },
  {
   "cell_type": "markdown",
   "metadata": {
    "button": false,
    "deletable": true,
    "new_sheet": false,
    "run_control": {
     "read_only": false
    }
   },
   "source": [
    "## Get metrics\n",
    "\n",
    "* We will get the following metrics:\n",
    "    * True positive - SA sent out alert for the USGS event. \n",
    "    * False positive - SA sent out alert but no corresponding USGS event. \n",
    "    * False negative - SA didn't send out an alert for USGS event. \n",
    "    \n",
    "#### Get True positive and False negative"
   ]
  },
  {
   "cell_type": "code",
   "execution_count": 123,
   "metadata": {
    "button": false,
    "collapsed": true,
    "deletable": true,
    "new_sheet": false,
    "run_control": {
     "read_only": false
    }
   },
   "outputs": [],
   "source": [
    "false_negative_list = []\n",
    "true_positive_list = []\n",
    "\n",
    "for ix, row in df_eq.iterrows():\n",
    "    evid = row['id']\n",
    "    \n",
    "    if evid in df_matched_event.catalogid.to_list():\n",
    "        true_positive_list.append(evid)\n",
    "    else:\n",
    "        false_negative_list.append(evid)"
   ]
  },
  {
   "cell_type": "code",
   "execution_count": 126,
   "metadata": {
    "button": false,
    "collapsed": true,
    "deletable": true,
    "new_sheet": false,
    "run_control": {
     "read_only": false
    }
   },
   "outputs": [],
   "source": [
    "df_event_select = df_event[df_event['system']=='dm']\n",
    "df_event_select = df_event_select[df_event_select['type']=='new']"
   ]
  },
  {
   "cell_type": "code",
   "execution_count": 124,
   "metadata": {
    "button": false,
    "collapsed": false,
    "deletable": true,
    "new_sheet": false,
    "run_control": {
     "read_only": false
    }
   },
   "outputs": [
    {
     "data": {
      "text/plain": [
       "603"
      ]
     },
     "execution_count": 124,
     "metadata": {},
     "output_type": "execute_result"
    }
   ],
   "source": [
    "len(true_positive_list)"
   ]
  },
  {
   "cell_type": "code",
   "execution_count": 125,
   "metadata": {
    "button": false,
    "collapsed": false,
    "deletable": true,
    "new_sheet": false,
    "run_control": {
     "read_only": false
    }
   },
   "outputs": [
    {
     "data": {
      "text/plain": [
       "185"
      ]
     },
     "execution_count": 125,
     "metadata": {},
     "output_type": "execute_result"
    }
   ],
   "source": [
    "    len(false_negative_list)"
   ]
  },
  {
   "cell_type": "markdown",
   "metadata": {
    "button": false,
    "deletable": true,
    "new_sheet": false,
    "run_control": {
     "read_only": false
    }
   },
   "source": [
    "#### Get false positive"
   ]
  },
  {
   "cell_type": "code",
   "execution_count": 128,
   "metadata": {
    "button": false,
    "collapsed": true,
    "deletable": true,
    "new_sheet": false,
    "run_control": {
     "read_only": false
    }
   },
   "outputs": [],
   "source": [
    "mag_threshold = 3.5\n",
    "\n",
    "# We get the first alert of all the ShakeAlert events.\n",
    "df_event_select = df_event[(df_event['system']=='dm') & (df_event['type']=='new')]\n",
    "df_event_select_m3pt5 = df_event_select[df_event_select['mag'] >= mag_threshold]"
   ]
  },
  {
   "cell_type": "code",
   "execution_count": 129,
   "metadata": {
    "button": false,
    "collapsed": true,
    "deletable": true,
    "new_sheet": false,
    "run_control": {
     "read_only": false
    }
   },
   "outputs": [],
   "source": [
    "false_positive_list = []\n",
    "\n",
    "for _, row in df_event_select_m3pt5.iterrows():\n",
    "    \n",
    "    if row.id not in df_matched_event['id'].to_list():\n",
    "        false_positive_list.append(row.id)"
   ]
  },
  {
   "cell_type": "code",
   "execution_count": 130,
   "metadata": {
    "button": false,
    "collapsed": false,
    "deletable": true,
    "new_sheet": false,
    "run_control": {
     "read_only": false
    }
   },
   "outputs": [
    {
     "data": {
      "text/plain": [
       "64"
      ]
     },
     "execution_count": 130,
     "metadata": {},
     "output_type": "execute_result"
    }
   ],
   "source": [
    "len(false_positive_list)"
   ]
  },
  {
   "cell_type": "markdown",
   "metadata": {
    "button": false,
    "deletable": true,
    "new_sheet": false,
    "run_control": {
     "read_only": false
    }
   },
   "source": [
    "## Now let's see how many of these events we can help\n",
    "\n",
    "#### Let's look at the 185 False Negative Events, how many of them can we help"
   ]
  },
  {
   "cell_type": "code",
   "execution_count": 33,
   "metadata": {
    "button": false,
    "collapsed": true,
    "deletable": true,
    "new_sheet": false,
    "run_control": {
     "read_only": false
    }
   },
   "outputs": [],
   "source": [
    "import glob\n",
    "import pickle"
   ]
  },
  {
   "cell_type": "code",
   "execution_count": null,
   "metadata": {
    "button": false,
    "collapsed": true,
    "deletable": true,
    "new_sheet": false,
    "run_control": {
     "read_only": false
    }
   },
   "outputs": [],
   "source": [
    "def get_event_number_for_syn_triggers_before_time(simulation_dict, \n",
    "                                                  alert_time,\n",
    "                                                  evla,\n",
    "                                                  evlo):\n",
    "    steady_phone_stats, trig_stats = \\\n",
    "            utils.simulation_data_count(simulation_dict,\n",
    "                                        alert_time,\n",
    "                                        evla,\n",
    "                                        evlo)\n",
    "    \n",
    "    count_more_than_10 = 0\n",
    "    count_more_than_50 = 0\n",
    "    count_more_than_100 = 0\n",
    "    count_more_than_500 = 0\n",
    "    \n",
    "    if trig_stats['median'] > 10:\n",
    "        count_more_than_10 = 1\n",
    "\n",
    "    if trig_stats['median'] > 50:\n",
    "        count_more_than_50 = 1\n",
    "\n",
    "    if trig_stats['median'] > 100:\n",
    "        count_more_than_100 = 1\n",
    "\n",
    "    if trig_stats['median'] > 100:\n",
    "        count_more_than_500 = 1\n",
    "            \n",
    "    return count_more_than_10, count_more_than_50, count_more_than_100, count_more_than_500"
   ]
  },
  {
   "cell_type": "code",
   "execution_count": 170,
   "metadata": {
    "button": false,
    "collapsed": false,
    "deletable": true,
    "new_sheet": false,
    "run_control": {
     "read_only": false
    }
   },
   "outputs": [
    {
     "name": "stdout",
     "output_type": "stream",
     "text": [
      "0\n",
      "10\n",
      "20\n",
      "30\n",
      "40\n",
      "50\n",
      "60\n",
      "70\n",
      "80\n",
      "90\n",
      "100\n",
      "110\n",
      "120\n",
      "130\n",
      "140\n",
      "150\n",
      "160\n",
      "170\n",
      "180\n"
     ]
    }
   ],
   "source": [
    "count_more_than_10_5s = 0\n",
    "count_more_than_50_5s = 0\n",
    "count_more_than_100_5s = 0\n",
    "count_more_than_500_5s = 0\n",
    "\n",
    "count_more_than_10_10s = 0\n",
    "count_more_than_50_10s = 0\n",
    "count_more_than_100_10s = 0\n",
    "count_more_than_500_10s = 0\n",
    "\n",
    "count_more_than_10_15s = 0\n",
    "count_more_than_50_15s = 0\n",
    "count_more_than_100_15s = 0\n",
    "count_more_than_500_15s = 0\n",
    "\n",
    "count_more_than_10_20s = 0\n",
    "count_more_than_50_20s = 0\n",
    "count_more_than_100_20s = 0\n",
    "count_more_than_500_20s = 0\n",
    "\n",
    "count_more_than_10_30s = 0\n",
    "count_more_than_50_30s = 0\n",
    "count_more_than_100_30s = 0\n",
    "count_more_than_500_30s = 0\n",
    "\n",
    "for i, evid in enumerate(false_negative_list):\n",
    "    if i%10==0:\n",
    "        print(i)\n",
    "        \n",
    "    filename = glob.glob(f'../data/simulation_data/*{evid}*')\n",
    "    earthquake_file = glob.glob(f'../data/ground_truth/*{evid}*')\n",
    "    \n",
    "    if len(earthquake_file)>0:\n",
    "        earthquake = pd.read_pickle(earthquake_file[0])\n",
    "    else:\n",
    "        print(f'No data for {evid}')\n",
    "        continue\n",
    "    evla = earthquake['latitude']\n",
    "    evlo = earthquake['longitude']\n",
    "    \n",
    "    if len(filename) > 0:\n",
    "        filename = filename[0]\n",
    "    else:\n",
    "        continue\n",
    "        \n",
    "    simulation_dict = pickle.load(open(filename, 'rb'))\n",
    "    \n",
    "    # check how many event contain triggers within 5s after the event \n",
    "    n10, n50, n100, n500 = \\\n",
    "            get_event_number_for_syn_triggers_before_time(simulation_dict, \n",
    "                                                          5,\n",
    "                                                          evla,\n",
    "                                                          evlo)\n",
    "\n",
    "    count_more_than_10_5s += n10\n",
    "    count_more_than_50_5s += n50\n",
    "    count_more_than_100_5s += n100\n",
    "    count_more_than_500_5s += n500\n",
    "    \n",
    "    # check how many event contain triggers within 10s after the event \n",
    "    n10, n50, n100, n500 = \\\n",
    "            get_event_number_for_syn_triggers_before_time(simulation_dict, \n",
    "                                                          10,\n",
    "                                                          evla,\n",
    "                                                          evlo)\n",
    "\n",
    "    count_more_than_10_10s += n10\n",
    "    count_more_than_50_10s += n50\n",
    "    count_more_than_100_10s += n100\n",
    "    count_more_than_500_10s += n500\n",
    "    \n",
    "    # check how many event contain triggers within 15s after the event \n",
    "    n10, n50, n100, n500 = \\\n",
    "            get_event_number_for_syn_triggers_before_time(simulation_dict, \n",
    "                                                          15,\n",
    "                                                          evla,\n",
    "                                                          evlo)\n",
    "\n",
    "    count_more_than_10_15s += n10\n",
    "    count_more_than_50_15s += n50\n",
    "    count_more_than_100_15s += n100\n",
    "    count_more_than_500_15s += n500\n",
    "    \n",
    "    # check how many event contain triggers within 20s after the event \n",
    "    n10, n50, n100, n500 = \\\n",
    "            get_event_number_for_syn_triggers_before_time(simulation_dict, \n",
    "                                                          20,\n",
    "                                                          evla,\n",
    "                                                          evlo)\n",
    "\n",
    "    count_more_than_10_20s += n10\n",
    "    count_more_than_50_20s += n50\n",
    "    count_more_than_100_20s += n100\n",
    "    count_more_than_500_20s += n500       \n",
    "    \n",
    "    # check how many event contain triggers within 30s after the event \n",
    "    n10, n50, n100, n500 = \\\n",
    "            get_event_number_for_syn_triggers_before_time(simulation_dict, \n",
    "                                                          30,\n",
    "                                                          evla,\n",
    "                                                          evlo)\n",
    "\n",
    "    count_more_than_10_30s += n10\n",
    "    count_more_than_50_30s += n50\n",
    "    count_more_than_100_30s += n100\n",
    "    count_more_than_500_30s += n500   \n",
    "    "
   ]
  },
  {
   "cell_type": "code",
   "execution_count": 166,
   "metadata": {
    "button": false,
    "collapsed": false,
    "deletable": true,
    "new_sheet": false,
    "run_control": {
     "read_only": false
    }
   },
   "outputs": [
    {
     "name": "stdout",
     "output_type": "stream",
     "text": [
      "1 0 0 0\n"
     ]
    }
   ],
   "source": [
    "print(count_more_than_10_5s,\n",
    "      count_more_than_50_5s,\n",
    "      count_more_than_100_5s,\n",
    "      count_more_than_500_5s)"
   ]
  },
  {
   "cell_type": "code",
   "execution_count": 167,
   "metadata": {
    "button": false,
    "collapsed": false,
    "deletable": true,
    "new_sheet": false,
    "run_control": {
     "read_only": false
    }
   },
   "outputs": [
    {
     "name": "stdout",
     "output_type": "stream",
     "text": [
      "6 0 0 0\n"
     ]
    }
   ],
   "source": [
    "print(count_more_than_10_10s,\n",
    "      count_more_than_50_10s,\n",
    "      count_more_than_100_10s,\n",
    "      count_more_than_500_10s)"
   ]
  },
  {
   "cell_type": "code",
   "execution_count": 168,
   "metadata": {
    "button": false,
    "collapsed": false,
    "deletable": true,
    "new_sheet": false,
    "run_control": {
     "read_only": false
    }
   },
   "outputs": [
    {
     "name": "stdout",
     "output_type": "stream",
     "text": [
      "7 0 0 0\n"
     ]
    }
   ],
   "source": [
    "print(count_more_than_10_15s,\n",
    "      count_more_than_50_15s,\n",
    "      count_more_than_100_15s,\n",
    "      count_more_than_500_15s)"
   ]
  },
  {
   "cell_type": "code",
   "execution_count": 169,
   "metadata": {
    "button": false,
    "collapsed": false,
    "deletable": true,
    "new_sheet": false,
    "run_control": {
     "read_only": false
    }
   },
   "outputs": [
    {
     "name": "stdout",
     "output_type": "stream",
     "text": [
      "8 0 0 0\n"
     ]
    }
   ],
   "source": [
    "print(count_more_than_10_20s,\n",
    "      count_more_than_50_20s,\n",
    "      count_more_than_100_20s,\n",
    "      count_more_than_500_20s)"
   ]
  },
  {
   "cell_type": "code",
   "execution_count": 171,
   "metadata": {
    "button": false,
    "collapsed": false,
    "deletable": true,
    "new_sheet": false,
    "run_control": {
     "read_only": false
    }
   },
   "outputs": [
    {
     "name": "stdout",
     "output_type": "stream",
     "text": [
      "65 0 0 0\n"
     ]
    }
   ],
   "source": [
    "print(count_more_than_10_30s,\n",
    "      count_more_than_50_30s,\n",
    "      count_more_than_100_30s,\n",
    "      count_more_than_500_30s)"
   ]
  },
  {
   "cell_type": "markdown",
   "metadata": {
    "button": false,
    "deletable": true,
    "new_sheet": false,
    "run_control": {
     "read_only": false
    }
   },
   "source": [
    "### How many could be faster\n",
    "\n",
    "For all the detected events, how many of them we can potentially speed up the whole process. "
   ]
  },
  {
   "cell_type": "code",
   "execution_count": 147,
   "metadata": {
    "button": false,
    "collapsed": true,
    "deletable": true,
    "new_sheet": false,
    "run_control": {
     "read_only": false
    }
   },
   "outputs": [],
   "source": [
    "all_files = glob.glob(\"./count_*\")\n",
    "\n",
    "li = []\n",
    "\n",
    "for filename in all_files:\n",
    "    df = pd.read_csv(filename, index_col=None, header=0)\n",
    "    li.append(df)\n",
    "\n",
    "df_count_results = pd.concat(li, axis=0, ignore_index=True)\n"
   ]
  },
  {
   "cell_type": "code",
   "execution_count": 148,
   "metadata": {
    "button": false,
    "collapsed": false,
    "deletable": true,
    "new_sheet": false,
    "run_control": {
     "read_only": false
    }
   },
   "outputs": [
    {
     "data": {
      "text/plain": [
       "603"
      ]
     },
     "execution_count": 148,
     "metadata": {},
     "output_type": "execute_result"
    }
   ],
   "source": [
    "len(true_positive_list)"
   ]
  },
  {
   "cell_type": "code",
   "execution_count": 150,
   "metadata": {
    "button": false,
    "collapsed": true,
    "deletable": true,
    "new_sheet": false,
    "run_control": {
     "read_only": false
    }
   },
   "outputs": [],
   "source": [
    "# There are some matched alerts has negative alert time,\n",
    "# maybe matched the wrong event?\n",
    "events_has_negative_alert_time = []\n",
    "count_more_than_10_first_alert = 0\n",
    "count_more_than_50_first_alert = 0\n",
    "count_more_than_100_first_alert = 0\n",
    "count_more_than_500_first_alert = 0\n",
    "\n",
    "count_more_than_10_half_first_alert = 0\n",
    "count_more_than_50_half_first_alert = 0\n",
    "count_more_than_100_half_first_alert = 0\n",
    "count_more_than_500_half_first_alert = 0\n",
    "\n",
    "for evid in true_positive_list:\n",
    "    \n",
    "    df_matched_event_select = df_matched_event[df_matched_event['catalogid'] == evid]\n",
    "    evtime = df_matched_event_select['time.1'].iloc[0]\n",
    "    evla = df_matched_event_select.iloc[0]['lat']\n",
    "    evlo = df_matched_event_select.iloc[0]['lon']\n",
    "    df_matched_event_select = df_matched_event_select.sort_values('time')\n",
    "    \n",
    "    for ix, row in df_matched_event_select.iterrows():\n",
    "        event_id = row['id']\n",
    "        \n",
    "        df_alert = df_event_select[df_event_select['id'] == event_id]\n",
    "        min_alert_time = 9999\n",
    "        if len(df_alert) > 0:\n",
    "            alert_time_s = (df_alert['alert_time'] - evtime).values[0]\n",
    "            if (alert_time_s < min_alert_time) & (alert_time_s > 0):\n",
    "                alert_info = df_alert\n",
    "                first_alert_time = alert_time_s\n",
    "                min_alert_time = alert_time_s\n",
    "        else:\n",
    "            alert_info = None\n",
    "            first_alert_time = -9999\n",
    "    \n",
    "    if alert_info is None:\n",
    "        events_has_negative_alert_time.append(evid)\n",
    "    else:\n",
    "        # We count how many triggers do we have\n",
    "        filename = glob.glob(f'../data/simulation_data/*{evid}*')\n",
    "    \n",
    "        if len(filename) > 0:\n",
    "            filename = filename[0]\n",
    "        else:\n",
    "            continue\n",
    "\n",
    "        simulation_dict = pickle.load(open(filename, 'rb'))\n",
    "        \n",
    "        # count the event has triggers before the first alert time\n",
    "        n10, n50, n100, n500 = \\\n",
    "            get_event_number_for_syn_triggers_before_time(simulation_dict, \n",
    "                                                          first_alert_time,\n",
    "                                                          evla,\n",
    "                                                          evlo)\n",
    "        \n",
    "        count_more_than_10_first_alert += n10\n",
    "        count_more_than_50_first_alert += n50\n",
    "        count_more_than_100_first_alert += n100\n",
    "        count_more_than_500_first_alert += n500\n",
    "        \n",
    "        # # count the event has triggers before half of the the first alert time\n",
    "        n10, n50, n100, n500 = \\\n",
    "            get_event_number_for_syn_triggers_before_time(simulation_dict, \n",
    "                                                          first_alert_time/2.0,\n",
    "                                                          evla,\n",
    "                                                          evlo)\n",
    "        \n",
    "        count_more_than_10_half_first_alert += n10\n",
    "        count_more_than_50_half_first_alert += n50\n",
    "        count_more_than_100_half_first_alert += n100\n",
    "        count_more_than_500_half_first_alert += n500"
   ]
  },
  {
   "cell_type": "code",
   "execution_count": 151,
   "metadata": {
    "button": false,
    "collapsed": false,
    "deletable": true,
    "new_sheet": false,
    "run_control": {
     "read_only": false
    }
   },
   "outputs": [
    {
     "name": "stdout",
     "output_type": "stream",
     "text": [
      "136 51 30 30\n"
     ]
    }
   ],
   "source": [
    "print(count_more_than_10_first_alert,\n",
    "      count_more_than_50_first_alert,\n",
    "      count_more_than_100_first_alert,\n",
    "      count_more_than_500_first_alert)"
   ]
  },
  {
   "cell_type": "code",
   "execution_count": 152,
   "metadata": {
    "button": false,
    "collapsed": false,
    "deletable": true,
    "new_sheet": false,
    "run_control": {
     "read_only": false
    }
   },
   "outputs": [
    {
     "name": "stdout",
     "output_type": "stream",
     "text": [
      "45 16 9 9\n"
     ]
    }
   ],
   "source": [
    "print(count_more_than_10_half_first_alert,\n",
    "      count_more_than_50_half_first_alert,\n",
    "      count_more_than_100_half_first_alert,\n",
    "      count_more_than_500_half_first_alert)"
   ]
  },
  {
   "cell_type": "code",
   "execution_count": 153,
   "metadata": {
    "button": false,
    "collapsed": false,
    "deletable": true,
    "new_sheet": false,
    "run_control": {
     "read_only": false
    }
   },
   "outputs": [
    {
     "data": {
      "text/plain": [
       "['nc71103759',\n",
       " 'ci37374711',\n",
       " 'nc72974766',\n",
       " 'ci38238754',\n",
       " 'ci37421757',\n",
       " 'ci38462063',\n",
       " 'ci38461007',\n",
       " 'ci38459335',\n",
       " 'ci38458967',\n",
       " 'ci38457991',\n",
       " 'ci38457863',\n",
       " 'ci38457855',\n",
       " 'ci38457847',\n",
       " 'ci37420717',\n",
       " 'ci38443543',\n",
       " 'ci38443439',\n",
       " 'ci38443391']"
      ]
     },
     "execution_count": 153,
     "metadata": {},
     "output_type": "execute_result"
    }
   ],
   "source": [
    "events_has_negative_alert_time"
   ]
  }
 ],
 "metadata": {
  "kernelspec": {
   "display_name": "Python 3",
   "language": "python",
   "name": "python3"
  },
  "language_info": {
   "codemirror_mode": {
    "name": "ipython",
    "version": 3
   },
   "file_extension": ".py",
   "mimetype": "text/x-python",
   "name": "python",
   "nbconvert_exporter": "python",
   "pygments_lexer": "ipython3",
   "version": "3.5.0"
  }
 },
 "nbformat": 4,
 "nbformat_minor": 4
}
