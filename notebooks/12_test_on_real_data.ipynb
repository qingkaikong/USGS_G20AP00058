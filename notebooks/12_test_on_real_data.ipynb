{
 "cells": [
  {
   "cell_type": "code",
   "execution_count": 11,
   "metadata": {
    "button": false,
    "collapsed": true,
    "deletable": true,
    "new_sheet": false,
    "run_control": {
     "read_only": false
    }
   },
   "outputs": [],
   "source": [
    "import collections\n",
    "import glob\n",
    "import os\n",
    "import numpy as np\n",
    "import pickle\n",
    "import matplotlib.pyplot as plt\n",
    "from tensorflow.keras import models\n",
    "\n",
    "import "
   ]
  },
  {
   "cell_type": "code",
   "execution_count": 4,
   "metadata": {
    "button": false,
    "collapsed": true,
    "deletable": true,
    "new_sheet": false,
    "run_control": {
     "read_only": false
    }
   },
   "outputs": [],
   "source": [
    "model = models.load_model(\n",
    "    '../deep_learning_trainer/trained_model/baseline/outputBest_acc_model-023-0.989288-0.987414.h5')\n",
    "\n",
    "myshake_detections = pickle.load(open('../data/myshake_detection_results.pkl', 'rb'))"
   ]
  },
  {
   "cell_type": "markdown",
   "metadata": {
    "button": false,
    "deletable": true,
    "new_sheet": false,
    "run_control": {
     "read_only": false
    }
   },
   "source": [
    "## Get "
   ]
  },
  {
   "cell_type": "code",
   "execution_count": 36,
   "metadata": {
    "button": false,
    "collapsed": true,
    "deletable": true,
    "new_sheet": false,
    "run_control": {
     "read_only": false
    }
   },
   "outputs": [],
   "source": [
    "simulation_folder = '../data/simulation_data_pt1p/'\n",
    "usgs_event_folder = '../data/ground_truth/'\n",
    "use_old_myshake_detection = True\n",
    "\n",
    "for simulation_file in glob.glob(os.path.join(simulation_folder, '*')):\n",
    "    evid = simulation_file.split('/')[-1].split('_')[0]\n",
    "    ground_truth_file = glob.glob(os.path.join(usgs_event_folder, evid + '*'))[0]\n",
    "    earthquake = pickle.load(open(ground_truth_file, 'rb'))\n",
    "    \n",
    "    simulation_dict = pickle.load(open(simulation_file, 'rb'))\n",
    "    phones_steady = np.array(simulation_dict[0]['phones_steady'])\n",
    "    df_trig = simulation_dict[0]['df_trig']\n",
    "    \n",
    "    # There are MyShake detections\n",
    "    if myshake_detections[evid][0][0][0][0]:\n",
    "        myshake_alert_time_since_origin_sec = myshake_detections[evid][0][1][3]\n",
    "        break\n",
    "    else:\n",
    "        continue"
   ]
  },
  {
   "cell_type": "code",
   "execution_count": null,
   "metadata": {
    "button": false,
    "collapsed": true,
    "deletable": true,
    "new_sheet": false,
    "run_control": {
     "read_only": false
    }
   },
   "outputs": [],
   "source": []
  }
 ],
 "metadata": {
  "kernelspec": {
   "display_name": "Python 3",
   "language": "python",
   "name": "python3"
  },
  "language_info": {
   "codemirror_mode": {
    "name": "ipython",
    "version": 3
   },
   "file_extension": ".py",
   "mimetype": "text/x-python",
   "name": "python",
   "nbconvert_exporter": "python",
   "pygments_lexer": "ipython3",
   "version": "3.5.0"
  }
 },
 "nbformat": 4,
 "nbformat_minor": 4
}
