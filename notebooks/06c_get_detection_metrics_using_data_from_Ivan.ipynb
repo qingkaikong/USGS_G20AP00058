{
 "cells": [
  {
   "cell_type": "code",
   "execution_count": 70,
   "metadata": {
    "button": false,
    "collapsed": true,
    "deletable": true,
    "new_sheet": false,
    "run_control": {
     "read_only": false
    }
   },
   "outputs": [],
   "source": [
    "import numpy as np\n",
    "import pandas as pd\n",
    "from io import StringIO\n",
    "from geo_utils import calculate_dist"
   ]
  },
  {
   "cell_type": "code",
   "execution_count": 97,
   "metadata": {
    "button": false,
    "collapsed": true,
    "deletable": true,
    "new_sheet": false,
    "run_control": {
     "read_only": false
    }
   },
   "outputs": [],
   "source": [
    "def read_alert_data(filename, include_region=True):\n",
    "    rd = open(filename, \"r\")\n",
    "    out = []\n",
    "    while True:\n",
    "        # Read next line\n",
    "        line = rd.readline()\n",
    "        # If line is blank, then you struck the EOF\n",
    "        if len(line) > 0:\n",
    "            if line[:2] == 'E:':\n",
    "                out.append(line.strip())\n",
    "\n",
    "        if not line :\n",
    "            break;\n",
    "    if include_region:\n",
    "        df = pd.read_csv(StringIO('\\n'.join(out)),\n",
    "                 delim_whitespace=True, \n",
    "                 names=['E', 'id', 'evid', 'mag', 'evla', 'evlo',\n",
    "                          'date', 'time', 'system', 'alert_time', 'est_mag',\n",
    "                          'est_evla', 'est_evlo', 'est_date', 'est_time', 'region'])\n",
    "    else:\n",
    "        df = pd.read_csv(StringIO('\\n'.join(out)),\n",
    "                 delim_whitespace=True, \n",
    "                 names=['E', 'id', 'evid', 'mag', 'evla', 'evlo',\n",
    "                          'date', 'time', 'system', 'alert_time', 'est_mag',\n",
    "                          'est_evla', 'est_evlo', 'est_date', 'est_time'])\n",
    "    \n",
    "    return df"
   ]
  },
  {
   "cell_type": "code",
   "execution_count": 98,
   "metadata": {
    "button": false,
    "collapsed": true,
    "deletable": true,
    "new_sheet": false,
    "run_control": {
     "read_only": false
    }
   },
   "outputs": [],
   "source": [
    "# Note, the b indicate the 2nd version Ivan gave me\n",
    "\n",
    "filename = '../data/shakeAlert/alerts2016c.txt'\n",
    "df_alert_2016 = read_alert_data(filename, include_region=True)\n",
    "filename = '../data/shakeAlert/alerts2018c.txt'\n",
    "df_alert_2018 = read_alert_data(filename, include_region=True)"
   ]
  },
  {
   "cell_type": "code",
   "execution_count": 99,
   "metadata": {
    "button": false,
    "collapsed": true,
    "deletable": true,
    "new_sheet": false,
    "run_control": {
     "read_only": false
    }
   },
   "outputs": [],
   "source": [
    "df_alert = pd.concat([df_alert_2016, df_alert_2018])"
   ]
  },
  {
   "cell_type": "code",
   "execution_count": 91,
   "metadata": {
    "button": false,
    "collapsed": true,
    "deletable": true,
    "new_sheet": false,
    "run_control": {
     "read_only": false
    }
   },
   "outputs": [],
   "source": [
    "df_eq = pd.read_pickle('../data/USGS_Earthquake_20160201_20200801_M3.5above.pkl')"
   ]
  },
  {
   "cell_type": "markdown",
   "metadata": {
    "button": false,
    "deletable": true,
    "new_sheet": false,
    "run_control": {
     "read_only": false
    }
   },
   "source": [
    "# Get metrics\n",
    "In this section, we will get the True positive, False positive, and False negative in terms of detection. \n",
    "\n",
    "* True positive - SA sent out alert for the USGS event. \n",
    "* False positive - SA sent out alert but no corresponding USGS event. \n",
    "* False negative - SA didn't send out an alert for USGS event. \n",
    "\n",
    "### Get the True positive and False negative"
   ]
  },
  {
   "cell_type": "code",
   "execution_count": 100,
   "metadata": {
    "button": false,
    "collapsed": true,
    "deletable": true,
    "new_sheet": false,
    "run_control": {
     "read_only": false
    }
   },
   "outputs": [],
   "source": [
    "false_negative_list = []\n",
    "true_positive_list = []\n",
    "\n",
    "for ix, row in df_eq.iterrows():\n",
    "    evid = row['id']\n",
    "    \n",
    "    if evid in df_alert.evid.to_list():\n",
    "        true_positive_list.append(evid)\n",
    "    else:\n",
    "        false_negative_list.append(evid)"
   ]
  },
  {
   "cell_type": "code",
   "execution_count": 101,
   "metadata": {
    "button": false,
    "collapsed": false,
    "deletable": true,
    "new_sheet": false,
    "run_control": {
     "read_only": false
    }
   },
   "outputs": [
    {
     "data": {
      "text/plain": [
       "465"
      ]
     },
     "execution_count": 101,
     "metadata": {},
     "output_type": "execute_result"
    }
   ],
   "source": [
    "len(true_positive_list)"
   ]
  },
  {
   "cell_type": "code",
   "execution_count": 94,
   "metadata": {
    "button": false,
    "collapsed": false,
    "deletable": true,
    "new_sheet": false,
    "run_control": {
     "read_only": false
    }
   },
   "outputs": [
    {
     "data": {
      "text/plain": [
       "311"
      ]
     },
     "execution_count": 94,
     "metadata": {},
     "output_type": "execute_result"
    }
   ],
   "source": [
    "len(false_negative_list)"
   ]
  },
  {
   "cell_type": "markdown",
   "metadata": {
    "button": false,
    "deletable": true,
    "new_sheet": false,
    "run_control": {
     "read_only": false
    }
   },
   "source": [
    "### Get the False positive"
   ]
  },
  {
   "cell_type": "code",
   "execution_count": 133,
   "metadata": {
    "button": false,
    "collapsed": true,
    "deletable": true,
    "new_sheet": false,
    "run_control": {
     "read_only": false
    }
   },
   "outputs": [],
   "source": [
    "df_eq_smaller = pd.read_pickle('../data/USGS_Earthquake_20160201_20200801_M2.5_M3.5.pkl')"
   ]
  },
  {
   "cell_type": "code",
   "execution_count": 134,
   "metadata": {
    "button": false,
    "collapsed": true,
    "deletable": true,
    "new_sheet": false,
    "run_control": {
     "read_only": false
    }
   },
   "outputs": [],
   "source": [
    "true_positive_alert_ids = [item[1] for item in true_positive_list]"
   ]
  },
  {
   "cell_type": "code",
   "execution_count": 152,
   "metadata": {
    "button": false,
    "collapsed": true,
    "deletable": true,
    "new_sheet": false,
    "run_control": {
     "read_only": false
    }
   },
   "outputs": [],
   "source": [
    "df_matched_events = pd.read_csv('../data/matched_event.csv')\n",
    "df_matched_events_2016 = pd.read_csv('../data/matched_event_2016.csv')"
   ]
  },
  {
   "cell_type": "code",
   "execution_count": 166,
   "metadata": {
    "button": false,
    "collapsed": true,
    "deletable": true,
    "new_sheet": false,
    "run_control": {
     "read_only": false
    }
   },
   "outputs": [],
   "source": [
    "data_list = []\n",
    "for _, row in df_matched_events.iterrows():\n",
    "    data_list.append([row['id'], row['ver'],row['catid'],\n",
    "                      row['time'], row['day'], row['dsecs'],\n",
    "                      row['dkm'], row['dmag'], row['modtime'],\n",
    "                      row['id.1'], row['catalogid'], row['lat'],\n",
    "                      row['lon'], row['depth'], row['mag'],\n",
    "                      row['time.1'], row['day.1'], row['modtime.1']])"
   ]
  },
  {
   "cell_type": "code",
   "execution_count": 169,
   "metadata": {
    "button": false,
    "collapsed": true,
    "deletable": true,
    "new_sheet": false,
    "run_control": {
     "read_only": false
    }
   },
   "outputs": [],
   "source": [
    "for _, row in df_matched_events_2016.iterrows():\n",
    "    data_list.append([row['id'], row['ver'],row['catid'],\n",
    "                      row['time'], row['day'], row['dsecs'],\n",
    "                      row['dkm'], row['dmag'], row['modtime'],\n",
    "                      row['id.1'], row['catalog'], row['lat'],\n",
    "                      row['lon'], row['depth'], row['mag'],\n",
    "                      row['time.1'], row['day.1'], row['modtime.1']])"
   ]
  },
  {
   "cell_type": "code",
   "execution_count": 173,
   "metadata": {
    "button": false,
    "collapsed": true,
    "deletable": true,
    "new_sheet": false,
    "run_control": {
     "read_only": false
    }
   },
   "outputs": [],
   "source": [
    "df_matched_events = pd.DataFrame(data_list, columns=['id', 'ver', 'catid', 'time', 'day', 'dsecs', 'dkm', 'dmag', 'modtime',\n",
    "       'id.1', 'catalogid', 'lat', 'lon', 'depth', 'mag', 'time.1', 'day.1',\n",
    "       'modtime.1'])\n",
    "\n",
    "df_matched_events = df_matched_events.sort_values('time')\n",
    "df_matched_events.to_csv('matched_events_from_SA_20160201_20201006.csv')"
   ]
  },
  {
   "cell_type": "code",
   "execution_count": 178,
   "metadata": {
    "button": false,
    "collapsed": false,
    "deletable": true,
    "new_sheet": false,
    "run_control": {
     "read_only": false
    }
   },
   "outputs": [
    {
     "data": {
      "text/plain": [
       "508"
      ]
     },
     "execution_count": 178,
     "metadata": {},
     "output_type": "execute_result"
    }
   ],
   "source": [
    "len(true_positive_list)"
   ]
  },
  {
   "cell_type": "code",
   "execution_count": 179,
   "metadata": {
    "button": false,
    "collapsed": false,
    "deletable": true,
    "new_sheet": false,
    "run_control": {
     "read_only": false
    }
   },
   "outputs": [
    {
     "data": {
      "text/plain": [
       "280"
      ]
     },
     "execution_count": 179,
     "metadata": {},
     "output_type": "execute_result"
    }
   ],
   "source": [
    "len(false_negative_list)"
   ]
  },
  {
   "cell_type": "code",
   "execution_count": null,
   "metadata": {
    "button": false,
    "collapsed": true,
    "deletable": true,
    "new_sheet": false,
    "run_control": {
     "read_only": false
    }
   },
   "outputs": [],
   "source": []
  }
 ],
 "metadata": {
  "kernelspec": {
   "display_name": "Python 3",
   "language": "python",
   "name": "python3"
  },
  "language_info": {
   "codemirror_mode": {
    "name": "ipython",
    "version": 3
   },
   "file_extension": ".py",
   "mimetype": "text/x-python",
   "name": "python",
   "nbconvert_exporter": "python",
   "pygments_lexer": "ipython3",
   "version": "3.5.0"
  }
 },
 "nbformat": 4,
 "nbformat_minor": 4
}
