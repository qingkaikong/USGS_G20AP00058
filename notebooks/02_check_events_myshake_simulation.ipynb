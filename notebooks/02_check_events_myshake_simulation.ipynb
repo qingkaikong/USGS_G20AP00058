{
 "cells": [
  {
   "cell_type": "code",
   "execution_count": 45,
   "metadata": {
    "button": false,
    "collapsed": true,
    "deletable": true,
    "new_sheet": false,
    "run_control": {
     "read_only": false
    }
   },
   "outputs": [],
   "source": [
    "import pickle\n",
    "import json\n",
    "import matplotlib.pyplot as plt\n",
    "import glob\n",
    "import numpy as np\n",
    "import datetime\n",
    "import pandas as pd\n",
    "from scipy import stats\n",
    "import pytz\n",
    "from geo_utils import calculate_dist\n",
    "from collections import Counter\n",
    "plt.style.use('seaborn-poster')\n",
    "%matplotlib inline\n",
    "import os\n",
    "\n",
    "import cartopy.crs as ccrs\n",
    "import cartopy.feature as cfeature\n",
    "import matplotlib.pyplot as plt\n",
    "from matplotlib import gridspec"
   ]
  },
  {
   "cell_type": "code",
   "execution_count": 14,
   "metadata": {
    "button": false,
    "collapsed": true,
    "deletable": true,
    "new_sheet": false,
    "run_control": {
     "read_only": false
    }
   },
   "outputs": [],
   "source": [
    "data_path = '../data/myshake_data/20160212_20170101/*_ground_truth.pkl'\n",
    "simulation_path = '../data/simulation_data/'"
   ]
  },
  {
   "cell_type": "code",
   "execution_count": 4,
   "metadata": {
    "button": false,
    "collapsed": true,
    "deletable": true,
    "new_sheet": false,
    "run_control": {
     "read_only": false
    }
   },
   "outputs": [],
   "source": [
    "def get_p_and_s(max_dist_km, evdp):\n",
    "    \n",
    "    ep_dist_km = np.arange(max_dist_km)\n",
    "    \n",
    "    hyp = np.sqrt(ep_dist_km**2 + evdp**2)\n",
    "    \n",
    "    return ep_dist_km, hyp/6.10, hyp/3.55"
   ]
  },
  {
   "cell_type": "markdown",
   "metadata": {
    "button": false,
    "deletable": true,
    "new_sheet": false,
    "run_control": {
     "read_only": false
    }
   },
   "source": [
    "## Read in the EPIC triggers"
   ]
  },
  {
   "cell_type": "code",
   "execution_count": 6,
   "metadata": {
    "button": false,
    "collapsed": true,
    "deletable": true,
    "new_sheet": false,
    "run_control": {
     "read_only": false
    }
   },
   "outputs": [],
   "source": [
    "df_epic = pd.read_hdf('../data/e2trigs_20160201_20170101.h5')"
   ]
  },
  {
   "cell_type": "code",
   "execution_count": 44,
   "metadata": {
    "button": false,
    "collapsed": false,
    "deletable": true,
    "new_sheet": false,
    "run_control": {
     "read_only": false
    }
   },
   "outputs": [
    {
     "name": "stderr",
     "output_type": "stream",
     "text": [
      "/Users/qingkaikong/miniconda3/lib/python3.6/site-packages/ipykernel_launcher.py:189: UserWarning: Tight layout not applied. The left and right margins cannot be made large enough to accommodate all axes decorations. \n"
     ]
    }
   ],
   "source": [
    "for f_hb in glob.glob(data_path):\n",
    "    \n",
    "    evid = os.path.basename(f_hb).split('_')[0]\n",
    "    \n",
    "    if evid != 'ci37374687':\n",
    "        continue\n",
    "    \n",
    "    simulation_file = glob.glob(os.path.join(simulation_path, evid + '*'))[0]\n",
    "    simulation_dict = pickle.load(open(simulation_file, 'rb'))\n",
    "    \n",
    "    i = 0    \n",
    "    #if os.path.isfile('../figures/simulation_figures/' + evid + '.png'):\n",
    "    #    continue\n",
    "    \n",
    "\n",
    "    # read in all the phones\n",
    "    phones = simulation_dict[i]['phones']\n",
    "    steady_phones = simulation_dict[i]['phones_steady']\n",
    "    df_trig = simulation_dict[i]['df_trig']\n",
    "    earthquake = pd.read_pickle(f_hb)\n",
    "    \n",
    "    mag = earthquake['mag']\n",
    "    evla = earthquake['latitude']\n",
    "    evlo = earthquake['longitude']\n",
    "    evdp = earthquake['depth']\n",
    "    evtime = earthquake['time']\n",
    "    place = earthquake['place']\n",
    "    \n",
    "    trig_times = []\n",
    "    dists = []\n",
    "\n",
    "    # origin time in timestamp\n",
    "    orig_time = (datetime.datetime.strptime(evtime.replace('Z',''), '%Y-%m-%dT%H:%M:%S.%f') - \\\n",
    "                         datetime.datetime(1970, 1, 1)).total_seconds()\n",
    "\n",
    "    # get the trigger distance km\n",
    "    triggers_dist = df_trig['dist']\n",
    "\n",
    "    # get the total phones distance km\n",
    "    total_phones_dist = []\n",
    "    for stla, stlo in phones:\n",
    "        total_phones_dist.append(calculate_dist(evla, evlo, stla, stlo))\n",
    "    total_phones_dist = np.array(total_phones_dist)\n",
    "    \n",
    "    # get the steady phones distance km\n",
    "    steady_phones_dist = []\n",
    "    for stla, stlo in steady_phones:\n",
    "        steady_phones_dist.append(calculate_dist(evla, evlo, stla, stlo))\n",
    "    steady_phones_dist = np.array(steady_phones_dist)\n",
    "    \n",
    "    # within 100 km\n",
    "    total_phones_dist_select = total_phones_dist[total_phones_dist < 100]\n",
    "    steady_phones_dist_select = steady_phones_dist[steady_phones_dist < 100]\n",
    "    triggers_dist_select = triggers_dist[triggers_dist<100]\n",
    "    \n",
    "    # triggers within 100 km\n",
    "    df_trig = df_trig[df_trig['dist']<100]\n",
    "    \n",
    "    ep_dist_km, tp_sec, ts_sec = get_p_and_s(500, evdp)\n",
    "    \n",
    "    # get the EPIC triggers\n",
    "    t_start = evtime[:-5]\n",
    "    t_end = datetime.datetime.strptime(evtime.replace('Z',''), '%Y-%m-%dT%H:%M:%S.%f') \\\n",
    "            + datetime.timedelta(seconds=60)\n",
    "    t_end = t_end.strftime('%Y-%m-%dT%H:%M:%S')\n",
    "    \n",
    "    t_30s_before = datetime.datetime.strptime(evtime.replace('Z',''), '%Y-%m-%dT%H:%M:%S.%f') \\\n",
    "            - datetime.timedelta(seconds=30)\n",
    "    t_30s_before = t_30s_before.strftime('%Y-%m-%dT%H:%M:%S')\n",
    "    \n",
    "    df_epic_select = df_epic[t_start:t_end]\n",
    "    \n",
    "    epic_trig_time_s = []\n",
    "    epic_trig_dist_km = []\n",
    "    for ix, row in df_epic_select.iterrows():\n",
    "        epic_trig_tt = row['time'] - orig_time\n",
    "        epic_trig_dist = calculate_dist(evla, evlo, row['lat'], row['lon'])\n",
    "        epic_trig_time_s.append(epic_trig_tt)\n",
    "        epic_trig_dist_km.append(epic_trig_dist)\n",
    "        \n",
    "    df_epic_select = df_epic_select.assign(trigT_s=epic_trig_time_s)\n",
    "    df_epic_select = df_epic_select.assign(dist_km=epic_trig_dist_km)\n",
    "    \n",
    "    df_epic_select_100 = df_epic_select[df_epic_select['dist_km'] <100][t_30s_before:t_end]\n",
    "    \n",
    "    df_trig_300 = df_trig[t_start:t_end]\n",
    "    \n",
    "    \n",
    "    # distance bins\n",
    "    try:\n",
    "        total_sum, edge, _ = stats.binned_statistic(total_phones_dist_select, [1]*len(total_phones_dist_select), \n",
    "                       statistic='sum', bins=np.arange(0, 105, 5))\n",
    "    except:\n",
    "        total_sum = np.zeros(len(edge[1:]))\n",
    "\n",
    "    try:\n",
    "        steady_sum, edge, _ = stats.binned_statistic(steady_phones_dist_select, [1]*len(steady_phones_dist_select), \n",
    "                       statistic='sum', bins=np.arange(0, 105, 5))\n",
    "    except:\n",
    "        steady_sum = np.zeros(len(edge[1:]))\n",
    "    \n",
    "    try:\n",
    "        trig_sum, edge, _ = stats.binned_statistic(triggers_dist_select, [1]*len(triggers_dist_select), \n",
    "                       statistic='sum', bins=np.arange(0, 105, 5))\n",
    "    except:\n",
    "        trig_sum = np.zeros(len(edge[1:]))\n",
    "        \n",
    "    try:\n",
    "        epic_sum, edge, _ = stats.binned_statistic(df_epic_select['dist_km'], [1]*len(df_epic_select['dist_km']), \n",
    "                       statistic='sum', bins=np.arange(0, 105, 5))\n",
    "    except:\n",
    "        epic_sum = np.zeros(len(edge[1:]))\n",
    "    \n",
    "    # time bins\n",
    "    df_trig_300 = df_trig[t_30s_before:t_end]\n",
    "    \n",
    "    try:\n",
    "        trig_t_sum, edge_t, _ = stats.binned_statistic(df_trig_300['delta_t'].values, [1]*len((df_trig_300['delta_t'])), \n",
    "                       statistic='sum', bins=np.arange(-30, 61, 1))\n",
    "    except:\n",
    "        trig_t_sum = np.zeros(len(edge_t[1:]))\n",
    "        \n",
    "    try:\n",
    "        epic_t_sum, edge_t, _ = stats.binned_statistic(df_epic_select_100['trigT_s'].values, [1]*len(df_epic_select_100['trigT_s']), \n",
    "                       statistic='sum', bins=np.arange(-30, 61, 1))\n",
    "    except:\n",
    "        epic_t_sum = np.zeros(len(edge_t[1:]))\n",
    "\n",
    "\n",
    "    \n",
    "    fig = plt.figure(figsize=(16, 10))\n",
    "    \n",
    "    fig.suptitle(f'M{mag} event at depth {evdp} km, on {evtime[:-5]}, at {place}', \n",
    "                 fontsize=20)\n",
    "\n",
    "    gs = gridspec.GridSpec(3, 4)\n",
    "\n",
    "    ax1 = plt.subplot(gs[0:2,0:3])\n",
    "\n",
    "    ax1.plot(ep_dist_km, tp_sec, 'g', label='P-wave')\n",
    "    ax1.plot(ep_dist_km, ts_sec, 'r', label='S-wave')\n",
    "    \n",
    "    ax1.scatter(df_trig_300['dist'], df_trig_300['delta_t'],s=30, c='k', \n",
    "                label='Simulated phone triggers', marker='.', zorder=9)\n",
    "    \n",
    "    ax1.set_xticklabels([])\n",
    "\n",
    "\n",
    "    ax1.scatter(df_epic_select['dist_km'], df_epic_select['trigT_s'],s=60, c='g', \n",
    "                label='EPIC triggers', marker='s', zorder=10)\n",
    "\n",
    "    ax1.set_ylabel('Time since origin of the earthquake (sec)')\n",
    "    ax1.set_ylim(-30, 70)\n",
    "    ax1.set_xlim(0, 100)\n",
    "    plt.legend(loc=4)\n",
    "\n",
    "    #ax2 = fig.add_subplot(1, 2, 2, projection=ccrs.PlateCarree())\n",
    "    ax2 = plt.subplot(gs[2,3:], projection=ccrs.PlateCarree())\n",
    "    ax2.set_extent([-125, -114, 32, 42], crs=ccrs.PlateCarree())\n",
    "\n",
    "    ax2.add_feature(cfeature.LAND)\n",
    "    ax2.add_feature(cfeature.OCEAN)\n",
    "    ax2.add_feature(cfeature.COASTLINE)\n",
    "    ax2.add_feature(cfeature.BORDERS, linestyle=':')\n",
    "    ax2.add_feature(cfeature.LAKES, alpha=0.5)\n",
    "    ax2.add_feature(cfeature.RIVERS)\n",
    "    ax2.add_feature(cfeature.STATES)\n",
    "    ax2.scatter(evlo, evla, marker='*', s=80, c='r')\n",
    "    \n",
    "    ax3 = plt.subplot(gs[2,0:3])\n",
    "    ax3.bar(edge[1:], total_sum, width = 5, color='b', label='PHONE')\n",
    "    #ax3.bar(edge[1:], steady_sum, width = 4, color='c', label='STEADY' )\n",
    "    ax3.bar(edge[1:], trig_sum, width = 4, color='k', label='TRIGGER')\n",
    "    ax3.bar(edge[1:], epic_sum, width = 3, color='g', label='EPIC')\n",
    "    ax3.set_xlim(0, 100)\n",
    "    plt.legend()\n",
    "    plt.xlabel('Epicentral distance (km)')\n",
    "    \n",
    "    ax4 = plt.subplot(gs[:2,3:])\n",
    "    \n",
    "    ax4.barh(edge_t[1:], trig_t_sum, color='k', height=0.8, label='Phone' )\n",
    "    ax4.barh(edge_t[1:], epic_t_sum, color='g', height=1, label='EPIC')\n",
    "    \n",
    "    ax4.set_ylim(-30, 70)\n",
    "    ax4.set_yticklabels([])\n",
    "    plt.legend(loc=4)\n",
    "    \n",
    "    \n",
    "    plt.tight_layout()\n",
    "    plt.savefig('../figures/simulation_figures/' + evid + '.png', transparent = False, \n",
    "                bbox_inches = 'tight', pad_inches = 0.1)\n",
    "    plt.close()\n",
    "    #plt.show()\n",
    "    \n",
    "    #break"
   ]
  },
  {
   "cell_type": "code",
   "execution_count": null,
   "metadata": {
    "button": false,
    "collapsed": true,
    "deletable": true,
    "new_sheet": false,
    "run_control": {
     "read_only": false
    }
   },
   "outputs": [],
   "source": []
  }
 ],
 "metadata": {
  "kernelspec": {
   "display_name": "Python 3",
   "language": "python",
   "name": "python3"
  },
  "language_info": {
   "codemirror_mode": {
    "name": "ipython",
    "version": 3
   },
   "file_extension": ".py",
   "mimetype": "text/x-python",
   "name": "python",
   "nbconvert_exporter": "python",
   "pygments_lexer": "ipython3",
   "version": "3.5.0"
  }
 },
 "nbformat": 4,
 "nbformat_minor": 2
}
