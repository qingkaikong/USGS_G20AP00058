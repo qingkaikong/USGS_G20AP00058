{
 "cells": [
  {
   "cell_type": "code",
   "execution_count": 233,
   "metadata": {
    "button": false,
    "collapsed": false,
    "deletable": true,
    "new_sheet": false,
    "run_control": {
     "read_only": false
    }
   },
   "outputs": [
    {
     "data": {
      "text/plain": [
       "<module 'plotting_utils' from '/Users/qingkaikong/Desktop/USGS/notebooks/plotting_utils.py'>"
      ]
     },
     "execution_count": 233,
     "metadata": {},
     "output_type": "execute_result"
    }
   ],
   "source": [
    "import os\n",
    "import glob\n",
    "import pickle\n",
    "import importlib\n",
    "\n",
    "\n",
    "import numpy as np\n",
    "import pandas as pd\n",
    "plt.style.use('seaborn-poster')\n",
    "\n",
    "import utils\n",
    "importlib.reload(utils)\n",
    "\n",
    "import plotting_utils\n",
    "importlib.reload(plotting_utils)"
   ]
  },
  {
   "cell_type": "code",
   "execution_count": 329,
   "metadata": {
    "button": false,
    "collapsed": true,
    "deletable": true,
    "new_sheet": false,
    "run_control": {
     "read_only": false
    }
   },
   "outputs": [],
   "source": [
    "data_path = '../data/myshake_data/20200101_20200801/'\n",
    "df_epic = pd.read_hdf('../data/e2trigs_20200101_20200825.h5')"
   ]
  },
  {
   "cell_type": "code",
   "execution_count": 315,
   "metadata": {
    "button": false,
    "collapsed": true,
    "deletable": true,
    "new_sheet": false,
    "run_control": {
     "read_only": false
    }
   },
   "outputs": [],
   "source": [
    "#df_e2event = pd.read_hdf('../data/e2event_20160201_20200923.h5')\n",
    "df_dmreview = pd.read_hdf('../data/dmreview_20160201_20190929.h5')\n",
    "df_event = pd.read_hdf('../data/event_20160201_20190929.h5')"
   ]
  },
  {
   "cell_type": "code",
   "execution_count": 330,
   "metadata": {
    "button": false,
    "collapsed": false,
    "deletable": true,
    "new_sheet": false,
    "run_control": {
     "read_only": false
    }
   },
   "outputs": [
    {
     "name": "stdout",
     "output_type": "stream",
     "text": [
      "ci39462920, there are 9 in the trigger, but 5 in DM event table!\n",
      "ci38488354, there are 8 in the trigger, but 4 in DM event table!\n",
      "ci39494120, there are 8 in the trigger, but 4 in DM event table!\n",
      "No ShakeAlert alert for nc73371960\n",
      "ci39491208, there are 7 in the trigger, but 5 in DM event table!\n",
      "nc73374265, there are 13 in the trigger, but 11 in DM event table!\n",
      "nc73340375, there are 11 in the trigger, but 5 in DM event table!\n",
      "nc73367635, there are 4 in the trigger, but 6 in DM event table!\n",
      "ci39464360, there are 14 in the trigger, but 9 in DM event table!\n",
      "nc73368095, there are 12 in the trigger, but 11 in DM event table!\n",
      "ci39214247, there are 9 in the trigger, but 4 in DM event table!\n",
      "ci38603762, there are 8 in the trigger, but 4 in DM event table!\n",
      "nc73399446, there are 16 in the trigger, but 14 in DM event table!\n",
      "ci39208391, there are 16 in the trigger, but 12 in DM event table!\n",
      "No ShakeAlert alert for nc73367590\n",
      "No ShakeAlert alert for nc73351710\n",
      "nc73355700, there are 9 in the trigger, but 5 in DM event table!\n",
      "ci38385946, there are 10 in the trigger, but 6 in DM event table!\n",
      "ci39138119, there are 14 in the trigger, but 10 in DM event table!\n",
      "nc73347185, there are 8 in the trigger, but 4 in DM event table!\n",
      "ci39126079, there are 10 in the trigger, but 4 in DM event table!\n",
      "nc73357410, there are 12 in the trigger, but 6 in DM event table!\n",
      "nc73349450, there are 9 in the trigger, but 5 in DM event table!\n",
      "ci38477458, there are 6 in the trigger, but 4 in DM event table!\n",
      "nc73367270, there are 15 in the trigger, but 13 in DM event table!\n",
      "No ShakeAlert alert for ci39218391\n",
      "ci39127679, there are 10 in the trigger, but 4 in DM event table!\n",
      "ci39126087, there are 9 in the trigger, but 4 in DM event table!\n",
      "nc73421981, there are 6 in the trigger, but 4 in DM event table!\n",
      "No ShakeAlert alert for nc73425991\n",
      "ci39406880, there are 7 in the trigger, but 4 in DM event table!\n",
      "ci39289384, there are 13 in the trigger, but 4 in DM event table!\n",
      "No ShakeAlert alert for nc73372865\n",
      "ci39462536, there are 7 in the trigger, but 4 in DM event table!\n",
      "ci38605954, there are 11 in the trigger, but 6 in DM event table!\n",
      "nc73322626, there are 9 in the trigger, but 4 in DM event table!\n",
      "No ShakeAlert alert for ci39463528\n",
      "No ShakeAlert alert for nc73351900\n",
      "ci39111991, there are 14 in the trigger, but 6 in DM event table!\n",
      "ci39322287, there are 15 in the trigger, but 7 in DM event table!\n",
      "ci39218863, there are 6 in the trigger, but 4 in DM event table!\n",
      "nc73352615, there are 9 in the trigger, but 7 in DM event table!\n",
      "ci39400304, there are 39 in the trigger, but 18 in DM event table!\n",
      "ci39020663, there are 15 in the trigger, but 8 in DM event table!\n",
      "ci39494672, there are 6 in the trigger, but 4 in DM event table!\n",
      "ci39135575, there are 35 in the trigger, but 19 in DM event table!\n",
      "ci39271647, there are 7 in the trigger, but 4 in DM event table!\n",
      "nc73371210, there are 13 in the trigger, but 11 in DM event table!\n",
      "nc73346395, there are 7 in the trigger, but 4 in DM event table!\n",
      "ci38386410, there are 8 in the trigger, but 4 in DM event table!\n",
      "ci39473968, there are 17 in the trigger, but 13 in DM event table!\n",
      "No ShakeAlert alert for nc73351825\n",
      "ci39108583, there are 8 in the trigger, but 4 in DM event table!\n",
      "No ShakeAlert alert for ci39292639\n",
      "nc73349375, there are 11 in the trigger, but 6 in DM event table!\n",
      "No ShakeAlert alert for ci39214127\n",
      "ci37447621, there are 0 in the trigger, but 5 in DM event table!\n",
      "ci39126263, there are 39 in the trigger, but 18 in DM event table!\n",
      "ci39481424, there are 5 in the trigger, but 4 in DM event table!\n",
      "ci38599882, there are 20 in the trigger, but 15 in DM event table!\n",
      "ci39494008, there are 5 in the trigger, but 4 in DM event table!\n",
      "No ShakeAlert alert for nc73428141\n",
      "ci39277736, there are 53 in the trigger, but 36 in DM event table!\n",
      "ci38482130, there are 16 in the trigger, but 11 in DM event table!\n",
      "ci39271783, there are 7 in the trigger, but 5 in DM event table!\n",
      "ci39322767, there are 22 in the trigger, but 6 in DM event table!\n",
      "nc73371655, there are 12 in the trigger, but 10 in DM event table!\n",
      "No ShakeAlert alert for ci39141591\n",
      "ci39033039, there are 9 in the trigger, but 4 in DM event table!\n",
      "nc73390316, there are 13 in the trigger, but 8 in DM event table!\n",
      "nc73336226, there are 5 in the trigger, but 4 in DM event table!\n",
      "ci39490952, there are 7 in the trigger, but 4 in DM event table!\n",
      "No ShakeAlert alert for nc73351895\n",
      "nc73364330, there are 11 in the trigger, but 6 in DM event table!\n",
      "nc73344735, there are 6 in the trigger, but 4 in DM event table!\n",
      "nc73367640, there are 64 in the trigger, but 6 in DM event table!\n",
      "ci39490968, there are 12 in the trigger, but 9 in DM event table!\n",
      "nc73367575, there are 14 in the trigger, but 11 in DM event table!\n",
      "ci39493944, there are 7 in the trigger, but 5 in DM event table!\n",
      "ci38387018, there are 6 in the trigger, but 4 in DM event table!\n",
      "nc73399001, there are 14 in the trigger, but 12 in DM event table!\n",
      "ci39227895, there are 10 in the trigger, but 5 in DM event table!\n",
      "No ShakeAlert alert for nc73352575\n",
      "ci39281440, there are 5 in the trigger, but 4 in DM event table!\n",
      "ci39079535, there are 8 in the trigger, but 4 in DM event table!\n",
      "nc73358970, there are 12 in the trigger, but 4 in DM event table!\n",
      "nc73435571, there are 8 in the trigger, but 4 in DM event table!\n"
     ]
    }
   ],
   "source": [
    "DEBUG = False\n",
    "results = [] \n",
    "for f_hb in glob.glob(os.path.join(data_path, '*_heartbeat.pkl')):\n",
    "    \n",
    "    evid = f_hb.split('/')[-1].split('_')[0]\n",
    "    \n",
    "    #if os.path.isfile('../figures/' + evid + '.png'):\n",
    "    #    continue\n",
    "    \n",
    "    if DEBUG:\n",
    "        output_folder = None\n",
    "        if evid != 'nc72672610':\n",
    "            continue\n",
    "        \n",
    "    # read in the data\n",
    "    df_heartbeat = pd.read_pickle(f_hb)\n",
    "    df_trig = pd.read_pickle(f_hb.replace('_heartbeat', '_trig'))\n",
    "    earthquake = pd.read_pickle(f_hb.replace('_heartbeat', '_ground_truth'))\n",
    "    \n",
    "    # read in the simulation data\n",
    "    simulation_file = glob.glob(os.path.join(data_path, evid + '*_simulations.pkl'))[0]\n",
    "    simulation_dict = pickle.load(open(simulation_file, 'rb'))\n",
    "    \n",
    "    orig_time, t_start, t_end = \\\n",
    "        utils.slice_time_from_eq_origin(\n",
    "                earthquake,\n",
    "                start_time_s_from_origin=-30,\n",
    "                end_time_s_from_origin=60\n",
    "                                       )\n",
    "    \n",
    "    # select the e2created events from origin of the EQ to the end\n",
    "    df_event_select = df_event[t_start:t_end]\n",
    "    df_event_select = df_event_select[df_event_select['system']=='dm']\n",
    "    df_event_select = df_event_select.assign(tt_rel= df_event_select['alert_time'] - orig_time)\n",
    "    \n",
    "    # only get the new created events\n",
    "    df_event_select = df_event_select[df_event_select['type']=='new']\n",
    "    \n",
    "    if len(df_event_select) < 1:\n",
    "        print(f'No ShakeAlert alert for {evid}')\n",
    "        continue\n",
    "    \n",
    "    # get the first alert\n",
    "    first_alert = df_event_select.iloc[0]\n",
    "    n_sa_station = first_alert['nsta']\n",
    "    \n",
    "    # get number of triggers before the first alert\n",
    "    df_trig, _, _, df_stalta_trig, _, df_epic_select = \\\n",
    "        utils.prepare_myshake_data(earthquake,\n",
    "                                   orig_time,\n",
    "                                   df_trig,\n",
    "                                   df_heartbeat,\n",
    "                                   df_epic,\n",
    "                                   t_start,\n",
    "                                   t_end,\n",
    "                                   max_dist_km=300,\n",
    "                                   myshake_legacy=False,\n",
    "                                     )\n",
    "    \n",
    "    count_1st_alert = get_count_stats(df_trig,\n",
    "                                      df_stalta_trig,\n",
    "                                      df_epic_select,\n",
    "                                      simulation_dict,\n",
    "                                      first_alert['tt_rel'],\n",
    "                                      earthquake)\n",
    "    \n",
    "    \n",
    "    # get the number of triggers before the first trigger\n",
    "    if count_1st_alert['n_dm_sta'] != first_alert['nsta']:\n",
    "        print(f\"{evid}, there are \"\n",
    "              f\"{count_1st_alert['n_dm_sta']} in the trigger, \"\n",
    "              f\"but {first_alert['nsta']} in DM event table!\")\n",
    "        \n",
    "    count_1st_trig = get_count_stats(df_trig,\n",
    "                                     df_stalta_trig,\n",
    "                                     count_1st_alert['dm_sta'],\n",
    "                                     simulation_dict,\n",
    "                                     count_1st_alert['dm_sta']['tt_rel'].min(),\n",
    "                                     earthquake)\n",
    "        \n",
    "    \n",
    "    # get the number of triggers before the median trigger df_epic_1st_alert['tt_rel'].median()\n",
    "    # this is when half of the total triggers of all the triggers before the alerting time\n",
    "    count_half_trig = get_count_stats(df_trig,\n",
    "                                     df_stalta_trig,\n",
    "                                     count_1st_alert['dm_sta'],\n",
    "                                     simulation_dict,\n",
    "                                     count_1st_alert['dm_sta']['tt_rel'].median(),\n",
    "                                     earthquake)\n",
    "    \n",
    "    # get the number of triggers before the median trigger df_epic_1st_alert['tt_rel'].median()\n",
    "    # this is when half of the total triggers of all the triggers before the alerting time\n",
    "    count_half_alert = get_count_stats(df_trig,\n",
    "                                     df_stalta_trig,\n",
    "                                     count_1st_alert['dm_sta'],\n",
    "                                     simulation_dict,\n",
    "                                     first_alert['tt_rel']/2.0,\n",
    "                                     earthquake)\n",
    "    \n",
    "    results.append([evid, earthquake['time'], orig_time, earthquake['latitude'],\n",
    "                    earthquake['longitude'], earthquake['mag'], earthquake['depth'],\n",
    "                    earthquake['place'], first_alert['alert_time'], first_alert['tt_rel'],\n",
    "                    first_alert['mag'], first_alert['lat'], first_alert['lon'],\n",
    "                    first_alert['depth'],first_alert['nsta'], first_alert['nalg'],\n",
    "                    count_1st_alert['n_myshake_stalta'], count_1st_alert['n_myshake_ann'], \n",
    "                    count_1st_trig['n_myshake_stalta'], count_1st_trig['n_myshake_ann'],\n",
    "                    count_half_trig['n_myshake_stalta'], count_half_trig['n_myshake_ann'],\n",
    "                    count_half_alert['n_myshake_stalta'], count_half_alert['n_myshake_ann'],\n",
    "                    count_1st_alert['steady_phone_stats_syn']['mu'], \n",
    "                    count_1st_alert['steady_phone_stats_syn']['median'],\n",
    "                    count_1st_alert['steady_phone_stats_syn']['std'], \n",
    "                    count_1st_alert['trig_stats_syn']['mu'],\n",
    "                    count_1st_alert['trig_stats_syn']['median'], \n",
    "                    count_1st_alert['trig_stats_syn']['std'],\n",
    "                    count_1st_trig['steady_phone_stats_syn']['mu'], \n",
    "                    count_1st_trig['steady_phone_stats_syn']['median'],\n",
    "                    count_1st_trig['steady_phone_stats_syn']['std'], \n",
    "                    count_1st_trig['trig_stats_syn']['mu'],\n",
    "                    count_1st_trig['trig_stats_syn']['median'], \n",
    "                    count_1st_trig['trig_stats_syn']['std'],\n",
    "                    count_half_trig['steady_phone_stats_syn']['mu'], \n",
    "                    count_half_trig['steady_phone_stats_syn']['median'],\n",
    "                    count_half_trig['steady_phone_stats_syn']['std'], \n",
    "                    count_half_trig['trig_stats_syn']['mu'],\n",
    "                    count_half_trig['trig_stats_syn']['median'], \n",
    "                    count_half_trig['trig_stats_syn']['std'],\n",
    "                    count_half_alert['steady_phone_stats_syn']['mu'], \n",
    "                    count_half_alert['steady_phone_stats_syn']['median'],\n",
    "                    count_half_alert['steady_phone_stats_syn']['std'], \n",
    "                    count_half_alert['trig_stats_syn']['mu'],\n",
    "                    count_half_alert['trig_stats_syn']['median'], \n",
    "                    count_half_alert['trig_stats_syn']['std']\n",
    "                    ])\n",
    "\n",
    "columns = ['evid', 'evtime', 'orig_time', 'evla', 'evlo', 'mag', 'depth',\n",
    "           'place', 'alert_time', 'alert_time_rel', 'est_mag', 'est_evla',\n",
    "           'est_evlo', 'est_depth', 'nsta', 'nalg', 'n_stalta_1st_alert',\n",
    "           'n_ann_1st_alert', 'n_stalta_1st_trig', 'n_ann_1st_trig',\n",
    "           'n_steady_phone_syn_mu_1st_alert','n_steady_phone_syn_median_1st_alert',\n",
    "           'n_steady_phone_syn_std_1st_alert','n_trig_syn_mu_1st_alert',\n",
    "           'n_trig_syn_median_1st_alert','n_trig_syn_std_1st_alert',\n",
    "           'n_trig_syn_median_half_trig','n_trig_syn_std_half_trig',\n",
    "           'n_trig_syn_median_half_alert','n_trig_syn_std_half_alert',\n",
    "           'n_steady_phone_syn_mu_1st_trig','n_steady_phone_syn_median_1st_trig',\n",
    "           'n_steady_phone_syn_std_1st_trig','n_trig_syn_mu_1st_trig',\n",
    "           'n_trig_syn_median_1st_trig','n_trig_syn_std_1st_trig',\n",
    "           'n_steady_phone_syn_mu_half_trig','n_steady_phone_syn_median_half_trig',\n",
    "           'n_steady_phone_syn_std_half_trig','n_trig_syn_mu_half_trig',\n",
    "           'n_trig_syn_median_half_trig','n_trig_syn_std_half_trig',\n",
    "           'n_steady_phone_syn_mu_half_alert','n_steady_phone_syn_median_half_alert',\n",
    "           'n_steady_phone_syn_std_half_alert','n_trig_syn_mu_half_alert',\n",
    "           'n_trig_syn_median_half_alert','n_trig_syn_std_half_alert'] \n",
    "df_results = pd.DataFrame(results, columns=columns)"
   ]
  },
  {
   "cell_type": "code",
   "execution_count": 331,
   "metadata": {
    "button": false,
    "collapsed": true,
    "deletable": true,
    "new_sheet": false,
    "run_control": {
     "read_only": false
    }
   },
   "outputs": [],
   "source": [
    "df_results.to_csv('count_stats_2020.csv', index=False)"
   ]
  },
  {
   "cell_type": "code",
   "execution_count": 278,
   "metadata": {
    "button": false,
    "collapsed": true,
    "deletable": true,
    "new_sheet": false,
    "run_control": {
     "read_only": false
    }
   },
   "outputs": [],
   "source": [
    "def get_count_stats(df_trig,\n",
    "                    df_stalta_trig,\n",
    "                    df_epic_select,\n",
    "                    simulation_dict,\n",
    "                    count_time,\n",
    "                    earthquake):\n",
    "    count_stats = {}\n",
    "    df_trig, df_stalta, df_epic = \\\n",
    "        get_data_before_time(\n",
    "            df_trig,\n",
    "            df_stalta_trig,\n",
    "            df_epic_select,\n",
    "            count_time)\n",
    "    \n",
    "    ### for simulation\n",
    "    steady_phone_stats_syn, trig_stats_syn = simulation_data_count(\n",
    "        simulation_dict,\n",
    "        count_time,\n",
    "        earthquake)\n",
    "    \n",
    "    count_stats['n_myshake_ann'] = len(df_trig)\n",
    "    count_stats['n_myshake_stalta'] = len(df_stalta)\n",
    "    count_stats['n_dm_sta'] = len(df_epic)\n",
    "    \n",
    "    count_stats['myshake_ann'] = df_trig\n",
    "    count_stats['myshake_stalta'] = df_stalta\n",
    "    count_stats['dm_sta'] = df_epic\n",
    "    \n",
    "    count_stats['steady_phone_stats_syn'] = steady_phone_stats_syn\n",
    "    count_stats['trig_stats_syn'] = trig_stats_syn\n",
    "    \n",
    "    return count_stats"
   ]
  },
  {
   "cell_type": "code",
   "execution_count": 210,
   "metadata": {
    "button": false,
    "collapsed": false,
    "deletable": true,
    "new_sheet": false,
    "run_control": {
     "read_only": false
    }
   },
   "outputs": [
    {
     "data": {
      "text/plain": [
       "({'mu': 13.0, 'median': 12.0, 'std': 3.9496835316262997},\n",
       " {'mu': 0.0, 'median': 0.0, 'std': 0.0})"
      ]
     },
     "execution_count": 210,
     "metadata": {},
     "output_type": "execute_result"
    }
   ],
   "source": [
    "def get_stats(data):\n",
    "    mu = np.mean(data)\n",
    "    median = np.median(data)\n",
    "    std = np.std(data)\n",
    "    \n",
    "    results = {'mu':mu,\n",
    "               'median':median,\n",
    "               'std':std}\n",
    "    return results\n",
    "\n",
    "\n",
    "def simulation_data_count(simulation_dict,\n",
    "                          alert_time,\n",
    "                          earthquake):\n",
    "    \n",
    "    p_wave_distance_at_alert_time = alert_time * 6.10\n",
    "    \n",
    "    steady_phone_list = []\n",
    "    trig_list = []\n",
    "    for key, simulation in simulation_dict.items():\n",
    "        count = 0\n",
    "        steady_phone = simulation['phones_steady']\n",
    "        for stla, stlo in steady_phone:\n",
    "            dist = calculate_dist(earthquake['latitude'],\n",
    "                       earthquake['longitude'],\n",
    "                       stla,\n",
    "                       stlo)\n",
    "            if dist <= p_wave_distance_at_alert_time:\n",
    "                count += 1\n",
    "                \n",
    "        steady_phone_list.append(count)\n",
    "        \n",
    "        df = select_data_between_time_and_space(\n",
    "            simulation['df_trig'],\n",
    "            t_start=0,\n",
    "            t_end=alert_time,\n",
    "            max_dist_km=p_wave_distance_at_alert_time)\n",
    "        trig_list.append(len(df))\n",
    "    \n",
    "    steady_phone_stats = get_stats(steady_phone_list)\n",
    "    trig_stats = get_stats(trig_list)\n",
    "    \n",
    "    \n",
    "    return steady_phone_stats, trig_stats"
   ]
  },
  {
   "cell_type": "code",
   "execution_count": 197,
   "metadata": {
    "button": false,
    "collapsed": true,
    "deletable": true,
    "new_sheet": false,
    "run_control": {
     "read_only": false
    }
   },
   "outputs": [],
   "source": [
    "def get_data_before_time(df_trig,\n",
    "                         df_stalta_trig,\n",
    "                         df_epic,\n",
    "                         alert_time,\n",
    "                         ):\n",
    "    \n",
    "    p_wave_distance_at_alert_time = alert_time * 6.10\n",
    "    \n",
    "    df_trig_select = select_data_between_time_and_space(\n",
    "        df_trig,\n",
    "        t_start=0,\n",
    "        t_end=alert_time,\n",
    "        max_dist_km=p_wave_distance_at_alert_time)\n",
    "\n",
    "    df_stalta_select = select_data_between_time_and_space(\n",
    "        df_stalta_trig,\n",
    "        t_start=0,\n",
    "        t_end=alert_time,\n",
    "        max_dist_km=p_wave_distance_at_alert_time)\n",
    "\n",
    "    df_epic_select = select_data_between_time_and_space(\n",
    "        df_epic,\n",
    "        t_start=0,\n",
    "        t_end=alert_time,\n",
    "        max_dist_km=p_wave_distance_at_alert_time)\n",
    "    \n",
    "    return df_trig_select, df_stalta_select, df_epic_select.drop_duplicates('sta')\n",
    "\n",
    "def select_data_between_time_and_space(df,\n",
    "                                       t_start=0,\n",
    "                                       t_end=60,\n",
    "                                       max_dist_km=300):\n",
    "    df = df[\n",
    "        df['dist_km'] < max_dist_km]\n",
    "    df = df[\n",
    "        (df['tt_rel'] <= t_end) &\n",
    "        (df['tt_rel'] > 0 )]\n",
    "    return df"
   ]
  },
  {
   "cell_type": "code",
   "execution_count": 234,
   "metadata": {
    "button": false,
    "collapsed": false,
    "deletable": true,
    "new_sheet": false,
    "run_control": {
     "read_only": false
    }
   },
   "outputs": [
    {
     "name": "stderr",
     "output_type": "stream",
     "text": [
      "/Users/qingkaikong/Desktop/USGS/notebooks/plotting_utils.py:268: UserWarning: Tight layout not applied. The left and right margins cannot be made large enough to accommodate all axes decorations. \n",
      "  plt.tight_layout()\n"
     ]
    },
    {
     "data": {
      "image/png": "[encoded data removed]",
      "text/plain": [
       "<Figure size 1152x720 with 4 Axes>"
      ]
     },
     "metadata": {
      "needs_background": "light"
     },
     "output_type": "display_data"
    }
   ],
   "source": [
    "plotting_utils.plot_comparison_plot(df_trig,\n",
    "                                    df_heartbeat,\n",
    "                                    df_epic,\n",
    "                                    df_event,\n",
    "                                    earthquake, \n",
    "                                    save_folder=None, \n",
    "                                    myshake_legacy=True,\n",
    "                                    plot_simulation=False,\n",
    "                                    simulation_path=None,\n",
    "                                    include_dm_alert_updates=False)"
   ]
  },
  {
   "cell_type": "code",
   "execution_count": 100,
   "metadata": {
    "button": false,
    "collapsed": true,
    "deletable": true,
    "new_sheet": false,
    "run_control": {
     "read_only": false
    }
   },
   "outputs": [],
   "source": [
    "df_event = pd.read_hdf('../data/event.h5')\n",
    "df_event_old = pd.read_hdf('../data/event_old.h5')"
   ]
  },
  {
   "cell_type": "code",
   "execution_count": 104,
   "metadata": {
    "button": false,
    "collapsed": true,
    "deletable": true,
    "new_sheet": false,
    "run_control": {
     "read_only": false
    }
   },
   "outputs": [],
   "source": [
    "df_combine = pd.concat([df_event, df_event_old])"
   ]
  },
  {
   "cell_type": "code",
   "execution_count": 105,
   "metadata": {
    "button": false,
    "collapsed": true,
    "deletable": true,
    "new_sheet": false,
    "run_control": {
     "read_only": false
    }
   },
   "outputs": [],
   "source": [
    "df_combine['datetime'] = pd.to_datetime(df_combine['alert_time'],unit='s')\n",
    "\n",
    "# set index\n",
    "df_combine = df_combine.set_index('datetime')\n",
    "df_combine = df_combine.sort_index()\n",
    "\n",
    "df_combine.to_hdf('./event_20160201_20190929.h5', 'event')"
   ]
  }
 ],
 "metadata": {
  "kernelspec": {
   "display_name": "Python 3",
   "language": "python",
   "name": "python3"
  },
  "language_info": {
   "codemirror_mode": {
    "name": "ipython",
    "version": 3
   },
   "file_extension": ".py",
   "mimetype": "text/x-python",
   "name": "python",
   "nbconvert_exporter": "python",
   "pygments_lexer": "ipython3",
   "version": "3.5.0"
  }
 },
 "nbformat": 4,
 "nbformat_minor": 4
}
