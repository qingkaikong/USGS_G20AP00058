{
 "cells": [
  {
   "cell_type": "code",
   "execution_count": 1,
   "metadata": {
    "button": false,
    "collapsed": true,
    "deletable": true,
    "new_sheet": false,
    "run_control": {
     "read_only": false
    }
   },
   "outputs": [],
   "source": [
    "import pandas as pd\n",
    "import numpy as np\n",
    "import matplotlib.pyplot as plt\n",
    "\n",
    "plt.style.use('seaborn-poster')"
   ]
  },
  {
   "cell_type": "code",
   "execution_count": 23,
   "metadata": {
    "button": false,
    "collapsed": true,
    "deletable": true,
    "new_sheet": false,
    "run_control": {
     "read_only": false
    }
   },
   "outputs": [],
   "source": [
    "df_matched_event = pd.read_csv('../data/matched_events_from_SA_20160201_20201006.csv')\n",
    "myshake_network_detection = pd.read_pickle('../data/myshake_detection_results.pkl')\n",
    "df_event = pd.read_hdf('../data/event_20160201_20190929.h5')\n",
    "df_event_select = df_event[(df_event['system']=='dm') & (df_event['type']=='new')]"
   ]
  },
  {
   "cell_type": "code",
   "execution_count": 93,
   "metadata": {
    "button": false,
    "collapsed": true,
    "deletable": true,
    "new_sheet": false,
    "run_control": {
     "read_only": false
    }
   },
   "outputs": [],
   "source": [
    "def get_shakealert_first_alert(evid, df_matched_event, df_event_select):\n",
    "    df_matched_event_select = df_matched_event[df_matched_event['catalogid'] == evid]\n",
    "    evtime = df_matched_event_select['time.1'].iloc[0]\n",
    "    evla = df_matched_event_select.iloc[0]['lat']\n",
    "    evlo = df_matched_event_select.iloc[0]['lon']\n",
    "    df_matched_event_select = df_matched_event_select.sort_values('time')\n",
    "    \n",
    "    first_alert_time, dmag, dsecs, dkm = 9999, 9999, 9999, 9999\n",
    "    for ix, row in df_matched_event_select.iterrows():\n",
    "        event_id = row['id']\n",
    "\n",
    "        df_alert = df_event_select[df_event_select['id'] == event_id]\n",
    "        min_alert_time = 9999\n",
    "        if len(df_alert) > 0:\n",
    "            alert_time_s = (df_alert['alert_time'] - evtime).values[0]\n",
    "            # Make sure the alert time is larger than origin time\n",
    "            if (alert_time_s < min_alert_time) & (alert_time_s > 0):\n",
    "                alert_info = df_alert\n",
    "                first_alert_time = alert_time_s\n",
    "                dmag = row['dmag']\n",
    "                dsecs = row['dsecs']\n",
    "                dkm = row['dkm']\n",
    "                min_alert_time = alert_time_s\n",
    "                \n",
    "    return first_alert_time, dmag, dsecs, dkm"
   ]
  },
  {
   "cell_type": "code",
   "execution_count": 94,
   "metadata": {
    "button": false,
    "collapsed": true,
    "deletable": true,
    "new_sheet": false,
    "run_control": {
     "read_only": false
    }
   },
   "outputs": [],
   "source": [
    "first_alert_detection_compare = {}\n",
    "for evid, value in myshake_network_detection.items():\n",
    "    \n",
    "    detection = value[0][0][0][0]\n",
    "    first_alert_detection_compare[evid] = {}\n",
    "    \n",
    "    if evid in df_matched_event.catalogid.to_list():\n",
    "        first_alert_time, dmag, dsecs, dkm = get_shakealert_first_alert(evid, df_matched_event, df_event_select)\n",
    "        first_alert_detection_compare[evid]['shakealert'] = [1, first_alert_time, dmag, dsecs, dkm]\n",
    "    else:\n",
    "        first_alert_detection_compare[evid]['shakealert'] = [0, np.nan, np.nan, np.nan, np.nan]\n",
    "    \n",
    "    if len(detection) == 0:\n",
    "        myshake_detection_time = np.nan\n",
    "        first_alert_detection_compare[evid]['myshake'] = [0, np.nan, np.nan, np.nan, np.nan]\n",
    "        continue\n",
    "    \n",
    "    dmag, dkm, dsecs, first_alert_time, total_opt_fails, npwave, nswave, first_centroid_error = value[0][1]\n",
    "    first_alert_detection_compare[evid]['myshake'] = [1, first_alert_time, dmag, dsecs, dkm]"
   ]
  },
  {
   "cell_type": "code",
   "execution_count": null,
   "metadata": {
    "button": false,
    "collapsed": true,
    "deletable": true,
    "new_sheet": false,
    "run_control": {
     "read_only": false
    }
   },
   "outputs": [],
   "source": []
  },
  {
   "cell_type": "markdown",
   "metadata": {
    "button": false,
    "deletable": true,
    "new_sheet": false,
    "run_control": {
     "read_only": false
    }
   },
   "source": [
    "## How many events each system detected"
   ]
  },
  {
   "cell_type": "code",
   "execution_count": null,
   "metadata": {
    "button": false,
    "collapsed": false,
    "deletable": true,
    "new_sheet": false,
    "run_control": {
     "read_only": false
    }
   },
   "outputs": [],
   "source": [
    "n_shakealert = 0\n",
    "n_myshake = 0\n",
    "n_both = 0\n",
    "alert_time_diff_s_myshake_shakealert = []\n",
    "for key, detections in first_alert_detection_compare.items():\n",
    "    myshake_detection = detections['myshake']\n",
    "    shakealert_detection = detections['shakealert']\n",
    "    \n",
    "    if myshake_detection[0]:\n",
    "        n_myshake += 1\n",
    "    \n",
    "    if shakealert_detection[0]:\n",
    "        n_shakealert += 1\n",
    "        if shakealert_detection[1] ==9999:\n",
    "            print('Here')\n",
    "        \n",
    "    if (myshake_detection[0]) & (shakealert_detection[0]):\n",
    "        n_both += 1\n",
    "        alert_time_diff_s_myshake_shakealert.append(myshake_detection[1] - shakealert_detection[1])\n",
    "        \n",
    "    if (myshake_detection[0]) & (shakealert_detection[0]==0):\n",
    "        print(evid)"
   ]
  },
  {
   "cell_type": "code",
   "execution_count": 75,
   "metadata": {
    "button": false,
    "collapsed": false,
    "deletable": true,
    "new_sheet": false,
    "run_control": {
     "read_only": false
    }
   },
   "outputs": [
    {
     "name": "stdout",
     "output_type": "stream",
     "text": [
      "Out of 785 events:\n",
      "    MyShake detected: 107\n",
      "    ShakeAlert detected: 600\n",
      "    104 events detected by both system.\n"
     ]
    }
   ],
   "source": [
    "print(f'Out of {len(first_alert_detection_compare)} events:\\n'\n",
    "      f'    MyShake detected: {n_myshake}\\n'\n",
    "      f'    ShakeAlert detected: {n_shakealert}\\n'\n",
    "      f'    {n_both} events detected by both system.')"
   ]
  },
  {
   "cell_type": "code",
   "execution_count": 80,
   "metadata": {
    "button": false,
    "collapsed": false,
    "deletable": true,
    "new_sheet": false,
    "run_control": {
     "read_only": false
    }
   },
   "outputs": [
    {
     "data": {
      "text/html": [
       "<div>\n",
       "<style scoped>\n",
       "    .dataframe tbody tr th:only-of-type {\n",
       "        vertical-align: middle;\n",
       "    }\n",
       "\n",
       "    .dataframe tbody tr th {\n",
       "        vertical-align: top;\n",
       "    }\n",
       "\n",
       "    .dataframe thead th {\n",
       "        text-align: right;\n",
       "    }\n",
       "</style>\n",
       "<table border=\"1\" class=\"dataframe\">\n",
       "  <thead>\n",
       "    <tr style=\"text-align: right;\">\n",
       "      <th></th>\n",
       "      <th>Unnamed: 0</th>\n",
       "      <th>id</th>\n",
       "      <th>ver</th>\n",
       "      <th>catid</th>\n",
       "      <th>time</th>\n",
       "      <th>day</th>\n",
       "      <th>dsecs</th>\n",
       "      <th>dkm</th>\n",
       "      <th>dmag</th>\n",
       "      <th>modtime</th>\n",
       "      <th>id.1</th>\n",
       "      <th>catalogid</th>\n",
       "      <th>lat</th>\n",
       "      <th>lon</th>\n",
       "      <th>depth</th>\n",
       "      <th>mag</th>\n",
       "      <th>time.1</th>\n",
       "      <th>day.1</th>\n",
       "      <th>modtime.1</th>\n",
       "    </tr>\n",
       "  </thead>\n",
       "  <tbody>\n",
       "    <tr>\n",
       "      <th>0</th>\n",
       "      <td>174016</td>\n",
       "      <td>2271</td>\n",
       "      <td>0</td>\n",
       "      <td>243766</td>\n",
       "      <td>1.454301e+09</td>\n",
       "      <td>20160201</td>\n",
       "      <td>0.427</td>\n",
       "      <td>4.02229</td>\n",
       "      <td>-0.1888</td>\n",
       "      <td>1475002296</td>\n",
       "      <td>243766</td>\n",
       "      <td>ci37301639</td>\n",
       "      <td>33.056500</td>\n",
       "      <td>-116.414667</td>\n",
       "      <td>14.62</td>\n",
       "      <td>2.30</td>\n",
       "      <td>1.454301e+09</td>\n",
       "      <td>20160201</td>\n",
       "      <td>1473722951</td>\n",
       "    </tr>\n",
       "    <tr>\n",
       "      <th>1</th>\n",
       "      <td>174017</td>\n",
       "      <td>2273</td>\n",
       "      <td>0</td>\n",
       "      <td>243766</td>\n",
       "      <td>1.454301e+09</td>\n",
       "      <td>20160201</td>\n",
       "      <td>0.427</td>\n",
       "      <td>4.02229</td>\n",
       "      <td>-0.1888</td>\n",
       "      <td>1475002296</td>\n",
       "      <td>243766</td>\n",
       "      <td>ci37301639</td>\n",
       "      <td>33.056500</td>\n",
       "      <td>-116.414667</td>\n",
       "      <td>14.62</td>\n",
       "      <td>2.30</td>\n",
       "      <td>1.454301e+09</td>\n",
       "      <td>20160201</td>\n",
       "      <td>1473722951</td>\n",
       "    </tr>\n",
       "    <tr>\n",
       "      <th>2</th>\n",
       "      <td>174018</td>\n",
       "      <td>2272</td>\n",
       "      <td>0</td>\n",
       "      <td>243766</td>\n",
       "      <td>1.454301e+09</td>\n",
       "      <td>20160201</td>\n",
       "      <td>0.427</td>\n",
       "      <td>4.02229</td>\n",
       "      <td>-0.1888</td>\n",
       "      <td>1475002296</td>\n",
       "      <td>243766</td>\n",
       "      <td>ci37301639</td>\n",
       "      <td>33.056500</td>\n",
       "      <td>-116.414667</td>\n",
       "      <td>14.62</td>\n",
       "      <td>2.30</td>\n",
       "      <td>1.454301e+09</td>\n",
       "      <td>20160201</td>\n",
       "      <td>1473722951</td>\n",
       "    </tr>\n",
       "    <tr>\n",
       "      <th>3</th>\n",
       "      <td>174015</td>\n",
       "      <td>2274</td>\n",
       "      <td>0</td>\n",
       "      <td>243766</td>\n",
       "      <td>1.454301e+09</td>\n",
       "      <td>20160201</td>\n",
       "      <td>0.427</td>\n",
       "      <td>4.02229</td>\n",
       "      <td>-0.1888</td>\n",
       "      <td>1475002296</td>\n",
       "      <td>243766</td>\n",
       "      <td>ci37301639</td>\n",
       "      <td>33.056500</td>\n",
       "      <td>-116.414667</td>\n",
       "      <td>14.62</td>\n",
       "      <td>2.30</td>\n",
       "      <td>1.454301e+09</td>\n",
       "      <td>20160201</td>\n",
       "      <td>1473722951</td>\n",
       "    </tr>\n",
       "    <tr>\n",
       "      <th>4</th>\n",
       "      <td>149648</td>\n",
       "      <td>2277</td>\n",
       "      <td>0</td>\n",
       "      <td>243770</td>\n",
       "      <td>1.454317e+09</td>\n",
       "      <td>20160201</td>\n",
       "      <td>-0.091</td>\n",
       "      <td>1.43670</td>\n",
       "      <td>0.1319</td>\n",
       "      <td>1475002296</td>\n",
       "      <td>243770</td>\n",
       "      <td>ci37301671</td>\n",
       "      <td>33.342333</td>\n",
       "      <td>-116.389333</td>\n",
       "      <td>8.68</td>\n",
       "      <td>1.87</td>\n",
       "      <td>1.454317e+09</td>\n",
       "      <td>20160201</td>\n",
       "      <td>1473722951</td>\n",
       "    </tr>\n",
       "    <tr>\n",
       "      <th>...</th>\n",
       "      <td>...</td>\n",
       "      <td>...</td>\n",
       "      <td>...</td>\n",
       "      <td>...</td>\n",
       "      <td>...</td>\n",
       "      <td>...</td>\n",
       "      <td>...</td>\n",
       "      <td>...</td>\n",
       "      <td>...</td>\n",
       "      <td>...</td>\n",
       "      <td>...</td>\n",
       "      <td>...</td>\n",
       "      <td>...</td>\n",
       "      <td>...</td>\n",
       "      <td>...</td>\n",
       "      <td>...</td>\n",
       "      <td>...</td>\n",
       "      <td>...</td>\n",
       "      <td>...</td>\n",
       "    </tr>\n",
       "    <tr>\n",
       "      <th>195171</th>\n",
       "      <td>144486</td>\n",
       "      <td>222176</td>\n",
       "      <td>0</td>\n",
       "      <td>58612117</td>\n",
       "      <td>1.602012e+09</td>\n",
       "      <td>20201006</td>\n",
       "      <td>-31.795</td>\n",
       "      <td>1.81970</td>\n",
       "      <td>0.3955</td>\n",
       "      <td>1602012155</td>\n",
       "      <td>58612117</td>\n",
       "      <td>ci39654600</td>\n",
       "      <td>33.038500</td>\n",
       "      <td>-115.584500</td>\n",
       "      <td>4.99</td>\n",
       "      <td>2.09</td>\n",
       "      <td>1.602012e+09</td>\n",
       "      <td>20201006</td>\n",
       "      <td>1602012243</td>\n",
       "    </tr>\n",
       "    <tr>\n",
       "      <th>195172</th>\n",
       "      <td>144487</td>\n",
       "      <td>222180</td>\n",
       "      <td>0</td>\n",
       "      <td>58612117</td>\n",
       "      <td>1.602012e+09</td>\n",
       "      <td>20201006</td>\n",
       "      <td>-31.795</td>\n",
       "      <td>1.81970</td>\n",
       "      <td>0.3955</td>\n",
       "      <td>1602012155</td>\n",
       "      <td>58612117</td>\n",
       "      <td>ci39654600</td>\n",
       "      <td>33.038500</td>\n",
       "      <td>-115.584500</td>\n",
       "      <td>4.99</td>\n",
       "      <td>2.09</td>\n",
       "      <td>1.602012e+09</td>\n",
       "      <td>20201006</td>\n",
       "      <td>1602012243</td>\n",
       "    </tr>\n",
       "    <tr>\n",
       "      <th>195173</th>\n",
       "      <td>144488</td>\n",
       "      <td>222178</td>\n",
       "      <td>0</td>\n",
       "      <td>58612117</td>\n",
       "      <td>1.602012e+09</td>\n",
       "      <td>20201006</td>\n",
       "      <td>-31.795</td>\n",
       "      <td>1.81970</td>\n",
       "      <td>0.3955</td>\n",
       "      <td>1602012155</td>\n",
       "      <td>58612117</td>\n",
       "      <td>ci39654600</td>\n",
       "      <td>33.038500</td>\n",
       "      <td>-115.584500</td>\n",
       "      <td>4.99</td>\n",
       "      <td>2.09</td>\n",
       "      <td>1.602012e+09</td>\n",
       "      <td>20201006</td>\n",
       "      <td>1602012243</td>\n",
       "    </tr>\n",
       "    <tr>\n",
       "      <th>195174</th>\n",
       "      <td>144489</td>\n",
       "      <td>222177</td>\n",
       "      <td>0</td>\n",
       "      <td>58612117</td>\n",
       "      <td>1.602012e+09</td>\n",
       "      <td>20201006</td>\n",
       "      <td>-31.795</td>\n",
       "      <td>1.81970</td>\n",
       "      <td>0.3955</td>\n",
       "      <td>1602012155</td>\n",
       "      <td>58612117</td>\n",
       "      <td>ci39654600</td>\n",
       "      <td>33.038500</td>\n",
       "      <td>-115.584500</td>\n",
       "      <td>4.99</td>\n",
       "      <td>2.09</td>\n",
       "      <td>1.602012e+09</td>\n",
       "      <td>20201006</td>\n",
       "      <td>1602012243</td>\n",
       "    </tr>\n",
       "    <tr>\n",
       "      <th>195175</th>\n",
       "      <td>144490</td>\n",
       "      <td>222175</td>\n",
       "      <td>0</td>\n",
       "      <td>58612117</td>\n",
       "      <td>1.602012e+09</td>\n",
       "      <td>20201006</td>\n",
       "      <td>-31.795</td>\n",
       "      <td>1.81970</td>\n",
       "      <td>0.3955</td>\n",
       "      <td>1602012155</td>\n",
       "      <td>58612117</td>\n",
       "      <td>ci39654600</td>\n",
       "      <td>33.038500</td>\n",
       "      <td>-115.584500</td>\n",
       "      <td>4.99</td>\n",
       "      <td>2.09</td>\n",
       "      <td>1.602012e+09</td>\n",
       "      <td>20201006</td>\n",
       "      <td>1602012243</td>\n",
       "    </tr>\n",
       "  </tbody>\n",
       "</table>\n",
       "<p>195176 rows × 19 columns</p>\n",
       "</div>"
      ],
      "text/plain": [
       "        Unnamed: 0      id  ver     catid          time       day   dsecs  \\\n",
       "0           174016    2271    0    243766  1.454301e+09  20160201   0.427   \n",
       "1           174017    2273    0    243766  1.454301e+09  20160201   0.427   \n",
       "2           174018    2272    0    243766  1.454301e+09  20160201   0.427   \n",
       "3           174015    2274    0    243766  1.454301e+09  20160201   0.427   \n",
       "4           149648    2277    0    243770  1.454317e+09  20160201  -0.091   \n",
       "...            ...     ...  ...       ...           ...       ...     ...   \n",
       "195171      144486  222176    0  58612117  1.602012e+09  20201006 -31.795   \n",
       "195172      144487  222180    0  58612117  1.602012e+09  20201006 -31.795   \n",
       "195173      144488  222178    0  58612117  1.602012e+09  20201006 -31.795   \n",
       "195174      144489  222177    0  58612117  1.602012e+09  20201006 -31.795   \n",
       "195175      144490  222175    0  58612117  1.602012e+09  20201006 -31.795   \n",
       "\n",
       "            dkm    dmag     modtime      id.1   catalogid        lat  \\\n",
       "0       4.02229 -0.1888  1475002296    243766  ci37301639  33.056500   \n",
       "1       4.02229 -0.1888  1475002296    243766  ci37301639  33.056500   \n",
       "2       4.02229 -0.1888  1475002296    243766  ci37301639  33.056500   \n",
       "3       4.02229 -0.1888  1475002296    243766  ci37301639  33.056500   \n",
       "4       1.43670  0.1319  1475002296    243770  ci37301671  33.342333   \n",
       "...         ...     ...         ...       ...         ...        ...   \n",
       "195171  1.81970  0.3955  1602012155  58612117  ci39654600  33.038500   \n",
       "195172  1.81970  0.3955  1602012155  58612117  ci39654600  33.038500   \n",
       "195173  1.81970  0.3955  1602012155  58612117  ci39654600  33.038500   \n",
       "195174  1.81970  0.3955  1602012155  58612117  ci39654600  33.038500   \n",
       "195175  1.81970  0.3955  1602012155  58612117  ci39654600  33.038500   \n",
       "\n",
       "               lon  depth   mag        time.1     day.1   modtime.1  \n",
       "0      -116.414667  14.62  2.30  1.454301e+09  20160201  1473722951  \n",
       "1      -116.414667  14.62  2.30  1.454301e+09  20160201  1473722951  \n",
       "2      -116.414667  14.62  2.30  1.454301e+09  20160201  1473722951  \n",
       "3      -116.414667  14.62  2.30  1.454301e+09  20160201  1473722951  \n",
       "4      -116.389333   8.68  1.87  1.454317e+09  20160201  1473722951  \n",
       "...            ...    ...   ...           ...       ...         ...  \n",
       "195171 -115.584500   4.99  2.09  1.602012e+09  20201006  1602012243  \n",
       "195172 -115.584500   4.99  2.09  1.602012e+09  20201006  1602012243  \n",
       "195173 -115.584500   4.99  2.09  1.602012e+09  20201006  1602012243  \n",
       "195174 -115.584500   4.99  2.09  1.602012e+09  20201006  1602012243  \n",
       "195175 -115.584500   4.99  2.09  1.602012e+09  20201006  1602012243  \n",
       "\n",
       "[195176 rows x 19 columns]"
      ]
     },
     "execution_count": 80,
     "metadata": {},
     "output_type": "execute_result"
    }
   ],
   "source": [
    "df_matched_event"
   ]
  },
  {
   "cell_type": "code",
   "execution_count": 76,
   "metadata": {
    "button": false,
    "collapsed": false,
    "deletable": true,
    "new_sheet": false,
    "run_control": {
     "read_only": false
    }
   },
   "outputs": [
    {
     "name": "stderr",
     "output_type": "stream",
     "text": [
      "/Users/qingkaikong/miniconda3/lib/python3.6/site-packages/numpy/lib/histograms.py:839: RuntimeWarning: invalid value encountered in greater_equal\n",
      "  keep = (tmp_a >= first_edge)\n",
      "/Users/qingkaikong/miniconda3/lib/python3.6/site-packages/numpy/lib/histograms.py:840: RuntimeWarning: invalid value encountered in less_equal\n",
      "  keep &= (tmp_a <= last_edge)\n"
     ]
    },
    {
     "data": {
      "text/plain": [
       "(array([1., 0., 0., 0., 0., 0., 0., 0., 0., 0., 1., 2., 2., 1., 1., 0., 0.,\n",
       "        0., 0., 1.]),\n",
       " array([-24.23100019, -22.23870018, -20.24640017, -18.25410016,\n",
       "        -16.26180015, -14.26950014, -12.27720013, -10.28490012,\n",
       "         -8.29260011,  -6.3003001 ,  -4.30800009,  -2.31570008,\n",
       "         -0.32340007,   1.66889994,   3.66119995,   5.65349996,\n",
       "          7.64579997,   9.63809998,  11.63039999,  13.6227    ,\n",
       "         15.61500001]),\n",
       " <a list of 20 Patch objects>)"
      ]
     },
     "execution_count": 76,
     "metadata": {},
     "output_type": "execute_result"
    },
    {
     "data": {
      "image/png": "[encoded data removed]",
      "text/plain": [
       "<Figure size 921.6x633.6 with 1 Axes>"
      ]
     },
     "metadata": {
      "needs_background": "light"
     },
     "output_type": "display_data"
    }
   ],
   "source": [
    "plt.hist(alert_time_diff_s_myshake_shakealert, bins=20)"
   ]
  },
  {
   "cell_type": "code",
   "execution_count": null,
   "metadata": {
    "button": false,
    "collapsed": false,
    "deletable": true,
    "new_sheet": false,
    "run_control": {
     "read_only": false
    }
   },
   "outputs": [],
   "source": [
    "alert_time_diff_s_myshake_shakealert"
   ]
  },
  {
   "cell_type": "code",
   "execution_count": 71,
   "metadata": {
    "button": false,
    "collapsed": false,
    "deletable": true,
    "new_sheet": false,
    "run_control": {
     "read_only": false
    }
   },
   "outputs": [
    {
     "data": {
      "text/plain": [
       "0         1475002296\n",
       "1         1475002296\n",
       "2         1475002296\n",
       "3         1475002296\n",
       "4         1475002296\n",
       "             ...    \n",
       "195171    1602012155\n",
       "195172    1602012155\n",
       "195173    1602012155\n",
       "195174    1602012155\n",
       "195175    1602012155\n",
       "Name: modtime, Length: 195176, dtype: int64"
      ]
     },
     "execution_count": 71,
     "metadata": {},
     "output_type": "execute_result"
    }
   ],
   "source": [
    "df_matched_event['modtime']"
   ]
  }
 ],
 "metadata": {
  "kernelspec": {
   "display_name": "Python 3",
   "language": "python",
   "name": "python3"
  },
  "language_info": {
   "codemirror_mode": {
    "name": "ipython",
    "version": 3
   },
   "file_extension": ".py",
   "mimetype": "text/x-python",
   "name": "python",
   "nbconvert_exporter": "python",
   "pygments_lexer": "ipython3",
   "version": "3.5.0"
  }
 },
 "nbformat": 4,
 "nbformat_minor": 4
}
