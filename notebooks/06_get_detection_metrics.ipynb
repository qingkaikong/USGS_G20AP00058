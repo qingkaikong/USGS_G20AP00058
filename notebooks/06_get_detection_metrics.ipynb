{
 "cells": [
  {
   "cell_type": "code",
   "execution_count": 62,
   "metadata": {
    "button": false,
    "collapsed": true,
    "deletable": true,
    "new_sheet": false,
    "run_control": {
     "read_only": false
    }
   },
   "outputs": [],
   "source": [
    "import numpy as np\n",
    "import pandas as pd\n",
    "\n",
    "from geo_utils import calculate_dist"
   ]
  },
  {
   "cell_type": "code",
   "execution_count": 20,
   "metadata": {
    "button": false,
    "collapsed": true,
    "deletable": true,
    "new_sheet": false,
    "run_control": {
     "read_only": false
    }
   },
   "outputs": [],
   "source": [
    "df_eq = pd.read_pickle('../data/USGS_Earthquake_20160201_20200801.pkl')\n",
    "df_event = pd.read_hdf('../data/event_20160201_20190929.h5')\n",
    "df_dmreview = pd.read_hdf('../data/dmreview_20160201_20190929.h5')"
   ]
  },
  {
   "cell_type": "markdown",
   "metadata": {
    "button": false,
    "deletable": true,
    "new_sheet": false,
    "run_control": {
     "read_only": false
    }
   },
   "source": [
    "# Get metrics\n",
    "In this section, we will get the True positive, False positive, and False negative in terms of detection. \n",
    "\n",
    "* True positive - SA sent out alert for the USGS event. \n",
    "* False positive - SA sent out alert but no corresponding USGS event. \n",
    "* False negative - SA didn't send out an alert for USGS event. \n",
    "\n",
    "For True positive, what I did\n",
    "* First check if an earthquake event has corresponding alerts with +- origin_time_difference_sec\n",
    "* If there are, I grabbed all the alerts that has alert time later than the origin time. \n",
    "* Then I check the distance error, if it smaller than location_difference_km. \n",
    "* If there are multiple alerts satisfy the results, I only select the one with the fastest alert. I tried the closest origin time, but it seems there are multiple alerts selected for multiple events. \n",
    "\n",
    "### Get the True positive and False negative"
   ]
  },
  {
   "cell_type": "code",
   "execution_count": 36,
   "metadata": {
    "button": false,
    "collapsed": true,
    "deletable": true,
    "new_sheet": false,
    "run_control": {
     "read_only": false
    }
   },
   "outputs": [],
   "source": [
    "mag_threshold = 3.5\n",
    "\n",
    "# We define the association rules\n",
    "origin_time_difference_sec = 30\n",
    "location_difference_km = 100\n",
    "\n",
    "# get the first alert of all the ShakeAlert events\n",
    "df_event_select = df_event[(df_event['system']=='dm') & (df_event['type']=='new')]"
   ]
  },
  {
   "cell_type": "code",
   "execution_count": 42,
   "metadata": {
    "button": false,
    "collapsed": true,
    "deletable": true,
    "new_sheet": false,
    "run_control": {
     "read_only": false
    }
   },
   "outputs": [],
   "source": [
    "# We calculate unix datetime. \n",
    "datetime_to_timestamp = lambda x: ((x - pd.Timestamp(\"1970-01-01\")) // pd.Timedelta('1ms'))/1000."
   ]
  },
  {
   "cell_type": "code",
   "execution_count": 132,
   "metadata": {
    "button": false,
    "collapsed": true,
    "deletable": true,
    "new_sheet": false,
    "run_control": {
     "read_only": false
    }
   },
   "outputs": [],
   "source": [
    "false_negative_list = []\n",
    "true_positive_list = []\n",
    "\n",
    "for _, row in df_eq.iterrows():\n",
    "    evtime = datetime_to_timestamp(row.name.tz_localize(None))\n",
    "    evla = row['latitude']\n",
    "    evlo = row['longitude']\n",
    "    evid = row['id']\n",
    "    \n",
    "    t_start = evtime - origin_time_difference_sec\n",
    "    t_end = evtime + origin_time_difference_sec\n",
    "    \n",
    "    # We make sure the origin time is within the time range.\n",
    "    df_alert = df_event_select[(df_event_select['time']>=t_start) & (df_event_select['time']<=t_end)]\n",
    "    \n",
    "    # If there are events detected, we continue to check the distance.\n",
    "    if len(df_alert) >= 1:\n",
    "        detected = False\n",
    "        alert_list = []\n",
    "        for _, alert in df_alert.iterrows():\n",
    "            est_evla = alert['lat']\n",
    "            est_evlo = alert['lon']\n",
    "            \n",
    "            # First, let's make sure the alert time is late than origin time\n",
    "            if alert['alert_time'] > evtime:\n",
    "                dist_km = calculate_dist(evla, evlo, est_evla, est_evlo)\n",
    "                alert_time_rel_s = alert['alert_time'] - evtime\n",
    "                origin_time_diff_s = abs(alert['time'] - evtime)\n",
    "                # Alert location should be less than the location_difference_km\n",
    "                if dist_km <= location_difference_km:\n",
    "                    alert_list.append([evid, str(alert['id']), dist_km, alert_time_rel_s, origin_time_diff_s])\n",
    "                else:\n",
    "                    continue\n",
    "            else:\n",
    "                continue\n",
    "                \n",
    "        if len(alert_list) > 1:\n",
    "            alert_list = np.array(alert_list)\n",
    "            \n",
    "            # If there are multiple alerts satisfy the rule, \n",
    "            # we will choose the one has the fastest alert.\n",
    "            ix = np.argmin(alert_list[:, -1])\n",
    "            true_positive_list.append(alert_list[ix])\n",
    "        elif len(alert_list)<1:\n",
    "            false_negative_list.append(evid)\n",
    "        else:\n",
    "            true_positive_list.append(alert_list[0])\n",
    "    \n",
    "    else:\n",
    "        # If no, then we have a False Negative.\n",
    "        false_negative_list.append(evid)"
   ]
  },
  {
   "cell_type": "markdown",
   "metadata": {
    "button": false,
    "deletable": true,
    "new_sheet": false,
    "run_control": {
     "read_only": false
    }
   },
   "source": [
    "### Get the False positive"
   ]
  },
  {
   "cell_type": "code",
   "execution_count": 133,
   "metadata": {
    "button": false,
    "collapsed": true,
    "deletable": true,
    "new_sheet": false,
    "run_control": {
     "read_only": false
    }
   },
   "outputs": [],
   "source": [
    "df_eq_smaller = pd.read_pickle('../data/USGS_Earthquake_20160201_20200801_M2.5_M3.5.pkl')"
   ]
  },
  {
   "cell_type": "code",
   "execution_count": 134,
   "metadata": {
    "button": false,
    "collapsed": true,
    "deletable": true,
    "new_sheet": false,
    "run_control": {
     "read_only": false
    }
   },
   "outputs": [],
   "source": [
    "true_positive_alert_ids = [item[1] for item in true_positive_list]"
   ]
  },
  {
   "cell_type": "code",
   "execution_count": 152,
   "metadata": {
    "button": false,
    "collapsed": true,
    "deletable": true,
    "new_sheet": false,
    "run_control": {
     "read_only": false
    }
   },
   "outputs": [],
   "source": [
    "df_matched_events = pd.read_csv('../data/matched_event.csv')\n",
    "df_matched_events_2016 = pd.read_csv('../data/matched_event_2016.csv')"
   ]
  },
  {
   "cell_type": "code",
   "execution_count": 166,
   "metadata": {
    "button": false,
    "collapsed": true,
    "deletable": true,
    "new_sheet": false,
    "run_control": {
     "read_only": false
    }
   },
   "outputs": [],
   "source": [
    "data_list = []\n",
    "for _, row in df_matched_events.iterrows():\n",
    "    data_list.append([row['id'], row['ver'],row['catid'],\n",
    "                      row['time'], row['day'], row['dsecs'],\n",
    "                      row['dkm'], row['dmag'], row['modtime'],\n",
    "                      row['id.1'], row['catalogid'], row['lat'],\n",
    "                      row['lon'], row['depth'], row['mag'],\n",
    "                      row['time.1'], row['day.1'], row['modtime.1']])"
   ]
  },
  {
   "cell_type": "code",
   "execution_count": 169,
   "metadata": {
    "button": false,
    "collapsed": true,
    "deletable": true,
    "new_sheet": false,
    "run_control": {
     "read_only": false
    }
   },
   "outputs": [],
   "source": [
    "for _, row in df_matched_events_2016.iterrows():\n",
    "    data_list.append([row['id'], row['ver'],row['catid'],\n",
    "                      row['time'], row['day'], row['dsecs'],\n",
    "                      row['dkm'], row['dmag'], row['modtime'],\n",
    "                      row['id.1'], row['catalog'], row['lat'],\n",
    "                      row['lon'], row['depth'], row['mag'],\n",
    "                      row['time.1'], row['day.1'], row['modtime.1']])"
   ]
  },
  {
   "cell_type": "code",
   "execution_count": 173,
   "metadata": {
    "button": false,
    "collapsed": true,
    "deletable": true,
    "new_sheet": false,
    "run_control": {
     "read_only": false
    }
   },
   "outputs": [],
   "source": [
    "df_matched_events = pd.DataFrame(data_list, columns=['id', 'ver', 'catid', 'time', 'day', 'dsecs', 'dkm', 'dmag', 'modtime',\n",
    "       'id.1', 'catalogid', 'lat', 'lon', 'depth', 'mag', 'time.1', 'day.1',\n",
    "       'modtime.1'])\n",
    "\n",
    "df_matched_events = df_matched_events.sort_values('time')\n",
    "df_matched_events.to_csv('matched_events_from_SA_20160201_20201006.csv')"
   ]
  },
  {
   "cell_type": "code",
   "execution_count": 178,
   "metadata": {
    "button": false,
    "collapsed": false,
    "deletable": true,
    "new_sheet": false,
    "run_control": {
     "read_only": false
    }
   },
   "outputs": [
    {
     "data": {
      "text/plain": [
       "508"
      ]
     },
     "execution_count": 178,
     "metadata": {},
     "output_type": "execute_result"
    }
   ],
   "source": [
    "len(true_positive_list)"
   ]
  },
  {
   "cell_type": "code",
   "execution_count": 179,
   "metadata": {
    "button": false,
    "collapsed": false,
    "deletable": true,
    "new_sheet": false,
    "run_control": {
     "read_only": false
    }
   },
   "outputs": [
    {
     "data": {
      "text/plain": [
       "280"
      ]
     },
     "execution_count": 179,
     "metadata": {},
     "output_type": "execute_result"
    }
   ],
   "source": [
    "len(false_negative_list)"
   ]
  }
 ],
 "metadata": {
  "kernelspec": {
   "display_name": "Python 3",
   "language": "python",
   "name": "python3"
  },
  "language_info": {
   "codemirror_mode": {
    "name": "ipython",
    "version": 3
   },
   "file_extension": ".py",
   "mimetype": "text/x-python",
   "name": "python",
   "nbconvert_exporter": "python",
   "pygments_lexer": "ipython3",
   "version": "3.5.0"
  }
 },
 "nbformat": 4,
 "nbformat_minor": 4
}
