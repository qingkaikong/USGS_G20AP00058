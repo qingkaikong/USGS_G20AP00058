{
 "cells": [
  {
   "cell_type": "markdown",
   "metadata": {
    "button": false,
    "deletable": true,
    "new_sheet": false,
    "run_control": {
     "read_only": false
    }
   },
   "source": [
    "This notebook prepares the training data for CNN model training."
   ]
  },
  {
   "cell_type": "code",
   "execution_count": 68,
   "metadata": {
    "button": false,
    "collapsed": true,
    "deletable": true,
    "new_sheet": false,
    "run_control": {
     "read_only": false
    }
   },
   "outputs": [],
   "source": [
    "import collections\n",
    "import glob\n",
    "import os\n",
    "import bz2\n",
    "import pickle\n",
    "import _pickle as cPickle\n",
    "\n",
    "import matplotlib.pyplot as plt\n",
    "import numpy as np\n",
    "import pandas as pd\n",
    "\n",
    "# Load any compressed pickle file\n",
    "def read_compressed_pickle(file):\n",
    "    data = bz2.BZ2File(file, 'rb')\n",
    "    data = cPickle.load(data)\n",
    "    return data"
   ]
  },
  {
   "cell_type": "code",
   "execution_count": 69,
   "metadata": {
    "button": false,
    "collapsed": true,
    "deletable": true,
    "new_sheet": false,
    "run_control": {
     "read_only": false
    }
   },
   "outputs": [],
   "source": [
    "data_folder = '../deep_learning_trainer/generated_data_1s/'\n",
    "\n",
    "files = glob.glob(os.path.join(data_folder, 'generate_*.pbz2'))"
   ]
  },
  {
   "cell_type": "markdown",
   "metadata": {
    "button": false,
    "deletable": true,
    "new_sheet": false,
    "run_control": {
     "read_only": false
    }
   },
   "source": [
    "## Using only triggering ratio as input images.\n",
    "\n",
    "This is only using the triggering ratio as input images, you can set use_n_images to control how many channels you want. If use_n_images == 3, means that every 3 images in time sequence will be used as the input to the model. It also has a parameter n_steady_threshold, which can reduce the cells which have less steady phones in it. "
   ]
  },
  {
   "cell_type": "code",
   "execution_count": 79,
   "metadata": {
    "button": false,
    "collapsed": true,
    "deletable": true,
    "new_sheet": false,
    "run_control": {
     "read_only": false
    }
   },
   "outputs": [],
   "source": [
    "X = []\n",
    "y = []\n",
    "meta = []\n",
    "\n",
    "count_no_trig = 0\n",
    "\n",
    "# Note, use only odd number of images, because I am taking np.median(labels)\n",
    "# as the label of the instance, so if we are using 3 images, then [0, 0, 1]\n",
    "# will have a label 0, and [0, 1, 1] will have a label 1.\n",
    "use_n_images = 3\n",
    "# this controls how to move the window, if it is 1, then we will move the \n",
    "# window for every image, and use_n_images controls the window length.\n",
    "window_moving_step = 1\n",
    "\n",
    "n_steady_threshold = 50\n",
    "\n",
    "# whether we require a minimum ratio to be consider, 0.1 means anything\n",
    "# smaller than 0.1 will be replaced with 0. This means, we only consider\n",
    "# the ones with 0.1 triggering ratio\n",
    "bottom_ratio_cap = 0.\n",
    "\n",
    "for f in files:\n",
    "    \n",
    "    df_features, steady_stats, simulation_results, mat_ix = read_compressed_pickle(f)\n",
    "    \n",
    "    # get the cell has less than 50 steady phones\n",
    "    ix_steady_mask = steady_stats['steady_phone_stats'] < n_steady_threshold\n",
    "    \n",
    "    for i in range(0, len(df_features) - use_n_images, window_moving_step):\n",
    "        rows = df_features.iloc[i:i+use_n_images]\n",
    "        \n",
    "        # The last batch may contain less than use_n_images\n",
    "        if len(rows) != use_n_images:\n",
    "            break\n",
    "        \n",
    "        tmp_ratio = []\n",
    "        tmp_label = []\n",
    "        for ix, row in rows.iterrows():\n",
    "            # If there is no trigger at all, we just skip it\n",
    "            if np.all((row['trig_ratio_stats'] == 0)):\n",
    "                count_no_trig += 1\n",
    "                continue\n",
    "            class_label = row['class_label']\n",
    "            trig_ratio_stats = np.nan_to_num(row['trig_ratio_stats'])\n",
    "            # Set the ratio to 0, if the steady phone in the cell less than n_steady_threshold\n",
    "            trig_ratio_stats[ix_steady_mask] = 0\n",
    "            \n",
    "            trig_ratio_stats[trig_ratio_stats < bottom_ratio_cap] = 0\n",
    "            # if there is no cell larger than bottom_ratio_cap, then \n",
    "            # we set it to zero, else, it remain the same. This basically\n",
    "            # will set any earthquake triggers but ratio less than bottom_ratio_cap\n",
    "            # to ignore.\n",
    "            if trig_ratio_stats.max() < bottom_ratio_cap:\n",
    "                class_label = 0\n",
    "            tmp_ratio.append(trig_ratio_stats)\n",
    "            tmp_label.append(class_label)\n",
    "            \n",
    "        meta.append(mat_ix)\n",
    "        X.append(tmp_ratio)\n",
    "        y.append(np.median(tmp_label))\n",
    "#np.savez_compressed('training_small.npz', X=X, y=y, meta=meta, n_quake_trigs=n_quake_trigs)"
   ]
  },
  {
   "cell_type": "code",
   "execution_count": 80,
   "metadata": {
    "button": false,
    "collapsed": false,
    "deletable": true,
    "new_sheet": false,
    "run_control": {
     "read_only": false
    }
   },
   "outputs": [
    {
     "data": {
      "text/plain": [
       "(1893859, 3, 30, 30)"
      ]
     },
     "execution_count": 80,
     "metadata": {},
     "output_type": "execute_result"
    }
   ],
   "source": [
    "np.array(X).shape"
   ]
  },
  {
   "cell_type": "code",
   "execution_count": 81,
   "metadata": {
    "button": false,
    "collapsed": false,
    "deletable": true,
    "new_sheet": false,
    "run_control": {
     "read_only": false
    }
   },
   "outputs": [
    {
     "data": {
      "text/plain": [
       "Counter({0.0: 1555814, 1.0: 338045})"
      ]
     },
     "execution_count": 81,
     "metadata": {},
     "output_type": "execute_result"
    }
   ],
   "source": [
    "collections.Counter(y)"
   ]
  },
  {
   "cell_type": "code",
   "execution_count": 82,
   "metadata": {
    "button": false,
    "collapsed": true,
    "deletable": true,
    "new_sheet": false,
    "run_control": {
     "read_only": false
    }
   },
   "outputs": [],
   "source": [
    "np.savez_compressed(f'training_small_nImg_{use_n_images}_nSteady_{n_steady_threshold}_1sWin_1imgStep.npz', X=X, y=y,\n",
    "                    meta=meta, use_n_images=use_n_images,\n",
    "                    n_steady_threshold=n_steady_threshold)"
   ]
  },
  {
   "cell_type": "code",
   "execution_count": 50,
   "metadata": {
    "button": false,
    "collapsed": false,
    "deletable": true,
    "new_sheet": false,
    "run_control": {
     "read_only": false
    }
   },
   "outputs": [
    {
     "data": {
      "text/plain": [
       "[3.5, 4.0, 4.5, 5.0, 5.5, 6.0, 6.5, 7.0, 7.5]"
      ]
     },
     "execution_count": 50,
     "metadata": {},
     "output_type": "execute_result"
    }
   ],
   "source": [
    "list(np.arange(3.5, 7.6, 0.5))"
   ]
  }
 ],
 "metadata": {
  "kernelspec": {
   "display_name": "Python 3",
   "language": "python",
   "name": "python3"
  },
  "language_info": {
   "codemirror_mode": {
    "name": "ipython",
    "version": 3
   },
   "file_extension": ".py",
   "mimetype": "text/x-python",
   "name": "python",
   "nbconvert_exporter": "python",
   "pygments_lexer": "ipython3",
   "version": "3.5.0"
  }
 },
 "nbformat": 4,
 "nbformat_minor": 4
}
